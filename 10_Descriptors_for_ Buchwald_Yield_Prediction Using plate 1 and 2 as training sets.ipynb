{
  "cells": [
    {
      "cell_type": "markdown",
      "metadata": {
        "id": "view-in-github",
        "colab_type": "text"
      },
      "source": [
        "<a href=\"https://colab.research.google.com/github/gashawmg/Buchwald-9-vs-120-features/blob/master/10_Descriptors_for_%20Buchwald_Yield_Prediction%20Using%20plate%201%20and%202%20as%20training%20sets.ipynb\" target=\"_parent\"><img src=\"https://colab.research.google.com/assets/colab-badge.svg\" alt=\"Open In Colab\"/></a>"
      ]
    },
    {
      "cell_type": "markdown",
      "metadata": {
        "id": "fO_UnTjll3-O"
      },
      "source": [
        "<div style=\"background-color:lightgreen; border-style: dotted;border-color: yellow;text-align:center;color:blue;font-size:20px;border-radius: 50px;padding: 20px 20px;\"><strong> Gashaw M. Goshu, PhD in Chemistry</strong></div>\n",
        "\n",
        "The top 20 conditions of XGBoost obtained using 120 descriptors \n",
        "Predicting reaction performance in C–N cross-coupling using machine learning\n",
        "Experimental data obtained from Ahneman et al publication in Science DOI: 10.1126/science.aar5169\n",
        "                    "
      ]
    },
    {
      "cell_type": "code",
      "execution_count": null,
      "metadata": {
        "id": "KUrfjsSQl3-R"
      },
      "outputs": [],
      "source": [
        "# Import relevant libraries\n",
        "import numpy as np\n",
        "from matplotlib import pyplot as plt\n",
        "import matplotlib.patches as mpatches\n",
        "import pandas as pd\n",
        "import seaborn as sn\n",
        "from sklearn.model_selection import cross_validate,train_test_split\n",
        "from sklearn.ensemble import RandomForestRegressor\n",
        "from sklearn.neural_network import MLPRegressor\n",
        "from sklearn.svm import LinearSVR\n",
        "from sklearn.impute import SimpleImputer\n",
        "from sklearn.metrics import r2_score,mean_absolute_error, mean_squared_error\n",
        "from sklearn.preprocessing import StandardScaler\n",
        "import tensorflow as tf\n",
        "from tensorflow import keras\n",
        "from tensorflow.keras import layers\n",
        "#import utils\n",
        "%matplotlib inline"
      ]
    },
    {
      "cell_type": "code",
      "execution_count": null,
      "metadata": {
        "id": "HsAC4fszl3-S"
      },
      "outputs": [],
      "source": [
        "# open a file containing descriptors and yield\n",
        "data = pd.read_csv(\"https://raw.githubusercontent.com/gashawmg/Buchwald-9-vs-120-features/master/Descriptor_and_yield_table.csv\")\n"
      ]
    },
    {
      "cell_type": "code",
      "execution_count": null,
      "metadata": {
        "id": "QUHuMPpOl3-T",
        "outputId": "0c23010c-249a-45d4-d0b9-26f0db5e6089",
        "colab": {
          "base_uri": "https://localhost:8080/",
          "height": 488
        }
      },
      "outputs": [
        {
          "output_type": "execute_result",
          "data": {
            "text/plain": [
              "      additive_*C3_NMR_shift  additive_*C3_electrostatic_charge  \\\n",
              "0                     143.12                              0.223   \n",
              "1                     143.12                              0.223   \n",
              "2                     143.12                              0.223   \n",
              "3                     143.12                              0.223   \n",
              "4                     143.12                              0.223   \n",
              "...                      ...                                ...   \n",
              "3955                  152.98                              0.429   \n",
              "3956                  152.98                              0.429   \n",
              "3957                  152.98                              0.429   \n",
              "3958                  152.98                              0.429   \n",
              "3959                  152.98                              0.429   \n",
              "\n",
              "      additive_*C4_NMR_shift  additive_*C4_electrostatic_charge  \\\n",
              "0                      93.06                             -0.447   \n",
              "1                      93.06                             -0.447   \n",
              "2                      93.06                             -0.447   \n",
              "3                      93.06                             -0.447   \n",
              "4                      93.06                             -0.447   \n",
              "...                      ...                                ...   \n",
              "3955                   98.09                             -0.589   \n",
              "3956                   98.09                             -0.589   \n",
              "3957                   98.09                             -0.589   \n",
              "3958                   98.09                             -0.589   \n",
              "3959                   98.09                             -0.589   \n",
              "\n",
              "      additive_*C5_NMR_shift  additive_*C5_electrostatic_charge  \\\n",
              "0                     162.34                              0.292   \n",
              "1                     162.34                              0.292   \n",
              "2                     162.34                              0.292   \n",
              "3                     162.34                              0.292   \n",
              "4                     162.34                              0.292   \n",
              "...                      ...                                ...   \n",
              "3955                  159.31                              0.387   \n",
              "3956                  159.31                              0.387   \n",
              "3957                  159.31                              0.387   \n",
              "3958                  159.31                              0.387   \n",
              "3959                  159.31                              0.387   \n",
              "\n",
              "      additive_*N1_electrostatic_charge  additive_*O1_electrostatic_charge  \\\n",
              "0                                -0.334                             -0.057   \n",
              "1                                -0.334                             -0.057   \n",
              "2                                -0.334                             -0.057   \n",
              "3                                -0.334                             -0.057   \n",
              "4                                -0.334                             -0.057   \n",
              "...                                 ...                                ...   \n",
              "3955                             -0.350                             -0.068   \n",
              "3956                             -0.350                             -0.068   \n",
              "3957                             -0.350                             -0.068   \n",
              "3958                             -0.350                             -0.068   \n",
              "3959                             -0.350                             -0.068   \n",
              "\n",
              "      additive_E_HOMO  additive_E_LUMO  ...  ligand_V6_frequency  \\\n",
              "0             -0.2317          -0.0487  ...             1640.307   \n",
              "1             -0.2317          -0.0487  ...             1640.307   \n",
              "2             -0.2317          -0.0487  ...             1640.307   \n",
              "3             -0.2317          -0.0487  ...             1640.307   \n",
              "4             -0.2317          -0.0487  ...             1640.307   \n",
              "...               ...              ...  ...                  ...   \n",
              "3955          -0.2337          -0.0696  ...             1631.618   \n",
              "3956          -0.2337          -0.0696  ...             1631.618   \n",
              "3957          -0.2337          -0.0696  ...             1631.618   \n",
              "3958          -0.2337          -0.0696  ...             1631.618   \n",
              "3959          -0.2337          -0.0696  ...             1631.618   \n",
              "\n",
              "      ligand_V6_intensity  ligand_V7_frequency  ligand_V7_intensity  \\\n",
              "0                   4.414             3026.561               16.577   \n",
              "1                   4.414             3026.561               16.577   \n",
              "2                   4.414             3026.561               16.577   \n",
              "3                   4.414             3026.561               16.577   \n",
              "4                   4.414             3026.561               16.577   \n",
              "...                   ...                  ...                  ...   \n",
              "3955               37.445             3025.675               16.220   \n",
              "3956               37.445             3025.675               16.220   \n",
              "3957               37.445             3025.675               16.220   \n",
              "3958               37.445             3025.675               16.220   \n",
              "3959               37.445             3025.675               16.220   \n",
              "\n",
              "      ligand_V8_frequency  ligand_V8_intensity  ligand_V9_frequency  \\\n",
              "0                3043.097               18.145             3064.344   \n",
              "1                3043.097               18.145             3064.344   \n",
              "2                3043.097               18.145             3064.344   \n",
              "3                3043.097               18.145             3064.344   \n",
              "4                3043.097               18.145             3064.344   \n",
              "...                   ...                  ...                  ...   \n",
              "3955             1054.500                1.432             3041.406   \n",
              "3956             1054.500                1.432             3041.406   \n",
              "3957             1054.500                1.432             3041.406   \n",
              "3958             1054.500                1.432             3041.406   \n",
              "3959             1054.500                1.432             3041.406   \n",
              "\n",
              "      ligand_V9_intensity  ligand_dipole_moment      yield  \n",
              "0                  38.210              1.212924  10.657812  \n",
              "1                  38.210              1.212924  14.747896  \n",
              "2                  38.210              1.212924  18.278686  \n",
              "3                  38.210              1.212924   2.475058  \n",
              "4                  38.210              1.212924   6.119058  \n",
              "...                   ...                   ...        ...  \n",
              "3955               35.621              3.735286  57.426670  \n",
              "3956               35.621              3.735286  86.233157  \n",
              "3957               35.621              3.735286   1.440081  \n",
              "3958               35.621              3.735286  43.538365  \n",
              "3959               35.621              3.735286  69.795902  \n",
              "\n",
              "[3960 rows x 121 columns]"
            ],
            "text/html": [
              "\n",
              "  <div id=\"df-2455e754-b771-456b-be9d-370e59337bc6\">\n",
              "    <div class=\"colab-df-container\">\n",
              "      <div>\n",
              "<style scoped>\n",
              "    .dataframe tbody tr th:only-of-type {\n",
              "        vertical-align: middle;\n",
              "    }\n",
              "\n",
              "    .dataframe tbody tr th {\n",
              "        vertical-align: top;\n",
              "    }\n",
              "\n",
              "    .dataframe thead th {\n",
              "        text-align: right;\n",
              "    }\n",
              "</style>\n",
              "<table border=\"1\" class=\"dataframe\">\n",
              "  <thead>\n",
              "    <tr style=\"text-align: right;\">\n",
              "      <th></th>\n",
              "      <th>additive_*C3_NMR_shift</th>\n",
              "      <th>additive_*C3_electrostatic_charge</th>\n",
              "      <th>additive_*C4_NMR_shift</th>\n",
              "      <th>additive_*C4_electrostatic_charge</th>\n",
              "      <th>additive_*C5_NMR_shift</th>\n",
              "      <th>additive_*C5_electrostatic_charge</th>\n",
              "      <th>additive_*N1_electrostatic_charge</th>\n",
              "      <th>additive_*O1_electrostatic_charge</th>\n",
              "      <th>additive_E_HOMO</th>\n",
              "      <th>additive_E_LUMO</th>\n",
              "      <th>...</th>\n",
              "      <th>ligand_V6_frequency</th>\n",
              "      <th>ligand_V6_intensity</th>\n",
              "      <th>ligand_V7_frequency</th>\n",
              "      <th>ligand_V7_intensity</th>\n",
              "      <th>ligand_V8_frequency</th>\n",
              "      <th>ligand_V8_intensity</th>\n",
              "      <th>ligand_V9_frequency</th>\n",
              "      <th>ligand_V9_intensity</th>\n",
              "      <th>ligand_dipole_moment</th>\n",
              "      <th>yield</th>\n",
              "    </tr>\n",
              "  </thead>\n",
              "  <tbody>\n",
              "    <tr>\n",
              "      <th>0</th>\n",
              "      <td>143.12</td>\n",
              "      <td>0.223</td>\n",
              "      <td>93.06</td>\n",
              "      <td>-0.447</td>\n",
              "      <td>162.34</td>\n",
              "      <td>0.292</td>\n",
              "      <td>-0.334</td>\n",
              "      <td>-0.057</td>\n",
              "      <td>-0.2317</td>\n",
              "      <td>-0.0487</td>\n",
              "      <td>...</td>\n",
              "      <td>1640.307</td>\n",
              "      <td>4.414</td>\n",
              "      <td>3026.561</td>\n",
              "      <td>16.577</td>\n",
              "      <td>3043.097</td>\n",
              "      <td>18.145</td>\n",
              "      <td>3064.344</td>\n",
              "      <td>38.210</td>\n",
              "      <td>1.212924</td>\n",
              "      <td>10.657812</td>\n",
              "    </tr>\n",
              "    <tr>\n",
              "      <th>1</th>\n",
              "      <td>143.12</td>\n",
              "      <td>0.223</td>\n",
              "      <td>93.06</td>\n",
              "      <td>-0.447</td>\n",
              "      <td>162.34</td>\n",
              "      <td>0.292</td>\n",
              "      <td>-0.334</td>\n",
              "      <td>-0.057</td>\n",
              "      <td>-0.2317</td>\n",
              "      <td>-0.0487</td>\n",
              "      <td>...</td>\n",
              "      <td>1640.307</td>\n",
              "      <td>4.414</td>\n",
              "      <td>3026.561</td>\n",
              "      <td>16.577</td>\n",
              "      <td>3043.097</td>\n",
              "      <td>18.145</td>\n",
              "      <td>3064.344</td>\n",
              "      <td>38.210</td>\n",
              "      <td>1.212924</td>\n",
              "      <td>14.747896</td>\n",
              "    </tr>\n",
              "    <tr>\n",
              "      <th>2</th>\n",
              "      <td>143.12</td>\n",
              "      <td>0.223</td>\n",
              "      <td>93.06</td>\n",
              "      <td>-0.447</td>\n",
              "      <td>162.34</td>\n",
              "      <td>0.292</td>\n",
              "      <td>-0.334</td>\n",
              "      <td>-0.057</td>\n",
              "      <td>-0.2317</td>\n",
              "      <td>-0.0487</td>\n",
              "      <td>...</td>\n",
              "      <td>1640.307</td>\n",
              "      <td>4.414</td>\n",
              "      <td>3026.561</td>\n",
              "      <td>16.577</td>\n",
              "      <td>3043.097</td>\n",
              "      <td>18.145</td>\n",
              "      <td>3064.344</td>\n",
              "      <td>38.210</td>\n",
              "      <td>1.212924</td>\n",
              "      <td>18.278686</td>\n",
              "    </tr>\n",
              "    <tr>\n",
              "      <th>3</th>\n",
              "      <td>143.12</td>\n",
              "      <td>0.223</td>\n",
              "      <td>93.06</td>\n",
              "      <td>-0.447</td>\n",
              "      <td>162.34</td>\n",
              "      <td>0.292</td>\n",
              "      <td>-0.334</td>\n",
              "      <td>-0.057</td>\n",
              "      <td>-0.2317</td>\n",
              "      <td>-0.0487</td>\n",
              "      <td>...</td>\n",
              "      <td>1640.307</td>\n",
              "      <td>4.414</td>\n",
              "      <td>3026.561</td>\n",
              "      <td>16.577</td>\n",
              "      <td>3043.097</td>\n",
              "      <td>18.145</td>\n",
              "      <td>3064.344</td>\n",
              "      <td>38.210</td>\n",
              "      <td>1.212924</td>\n",
              "      <td>2.475058</td>\n",
              "    </tr>\n",
              "    <tr>\n",
              "      <th>4</th>\n",
              "      <td>143.12</td>\n",
              "      <td>0.223</td>\n",
              "      <td>93.06</td>\n",
              "      <td>-0.447</td>\n",
              "      <td>162.34</td>\n",
              "      <td>0.292</td>\n",
              "      <td>-0.334</td>\n",
              "      <td>-0.057</td>\n",
              "      <td>-0.2317</td>\n",
              "      <td>-0.0487</td>\n",
              "      <td>...</td>\n",
              "      <td>1640.307</td>\n",
              "      <td>4.414</td>\n",
              "      <td>3026.561</td>\n",
              "      <td>16.577</td>\n",
              "      <td>3043.097</td>\n",
              "      <td>18.145</td>\n",
              "      <td>3064.344</td>\n",
              "      <td>38.210</td>\n",
              "      <td>1.212924</td>\n",
              "      <td>6.119058</td>\n",
              "    </tr>\n",
              "    <tr>\n",
              "      <th>...</th>\n",
              "      <td>...</td>\n",
              "      <td>...</td>\n",
              "      <td>...</td>\n",
              "      <td>...</td>\n",
              "      <td>...</td>\n",
              "      <td>...</td>\n",
              "      <td>...</td>\n",
              "      <td>...</td>\n",
              "      <td>...</td>\n",
              "      <td>...</td>\n",
              "      <td>...</td>\n",
              "      <td>...</td>\n",
              "      <td>...</td>\n",
              "      <td>...</td>\n",
              "      <td>...</td>\n",
              "      <td>...</td>\n",
              "      <td>...</td>\n",
              "      <td>...</td>\n",
              "      <td>...</td>\n",
              "      <td>...</td>\n",
              "      <td>...</td>\n",
              "    </tr>\n",
              "    <tr>\n",
              "      <th>3955</th>\n",
              "      <td>152.98</td>\n",
              "      <td>0.429</td>\n",
              "      <td>98.09</td>\n",
              "      <td>-0.589</td>\n",
              "      <td>159.31</td>\n",
              "      <td>0.387</td>\n",
              "      <td>-0.350</td>\n",
              "      <td>-0.068</td>\n",
              "      <td>-0.2337</td>\n",
              "      <td>-0.0696</td>\n",
              "      <td>...</td>\n",
              "      <td>1631.618</td>\n",
              "      <td>37.445</td>\n",
              "      <td>3025.675</td>\n",
              "      <td>16.220</td>\n",
              "      <td>1054.500</td>\n",
              "      <td>1.432</td>\n",
              "      <td>3041.406</td>\n",
              "      <td>35.621</td>\n",
              "      <td>3.735286</td>\n",
              "      <td>57.426670</td>\n",
              "    </tr>\n",
              "    <tr>\n",
              "      <th>3956</th>\n",
              "      <td>152.98</td>\n",
              "      <td>0.429</td>\n",
              "      <td>98.09</td>\n",
              "      <td>-0.589</td>\n",
              "      <td>159.31</td>\n",
              "      <td>0.387</td>\n",
              "      <td>-0.350</td>\n",
              "      <td>-0.068</td>\n",
              "      <td>-0.2337</td>\n",
              "      <td>-0.0696</td>\n",
              "      <td>...</td>\n",
              "      <td>1631.618</td>\n",
              "      <td>37.445</td>\n",
              "      <td>3025.675</td>\n",
              "      <td>16.220</td>\n",
              "      <td>1054.500</td>\n",
              "      <td>1.432</td>\n",
              "      <td>3041.406</td>\n",
              "      <td>35.621</td>\n",
              "      <td>3.735286</td>\n",
              "      <td>86.233157</td>\n",
              "    </tr>\n",
              "    <tr>\n",
              "      <th>3957</th>\n",
              "      <td>152.98</td>\n",
              "      <td>0.429</td>\n",
              "      <td>98.09</td>\n",
              "      <td>-0.589</td>\n",
              "      <td>159.31</td>\n",
              "      <td>0.387</td>\n",
              "      <td>-0.350</td>\n",
              "      <td>-0.068</td>\n",
              "      <td>-0.2337</td>\n",
              "      <td>-0.0696</td>\n",
              "      <td>...</td>\n",
              "      <td>1631.618</td>\n",
              "      <td>37.445</td>\n",
              "      <td>3025.675</td>\n",
              "      <td>16.220</td>\n",
              "      <td>1054.500</td>\n",
              "      <td>1.432</td>\n",
              "      <td>3041.406</td>\n",
              "      <td>35.621</td>\n",
              "      <td>3.735286</td>\n",
              "      <td>1.440081</td>\n",
              "    </tr>\n",
              "    <tr>\n",
              "      <th>3958</th>\n",
              "      <td>152.98</td>\n",
              "      <td>0.429</td>\n",
              "      <td>98.09</td>\n",
              "      <td>-0.589</td>\n",
              "      <td>159.31</td>\n",
              "      <td>0.387</td>\n",
              "      <td>-0.350</td>\n",
              "      <td>-0.068</td>\n",
              "      <td>-0.2337</td>\n",
              "      <td>-0.0696</td>\n",
              "      <td>...</td>\n",
              "      <td>1631.618</td>\n",
              "      <td>37.445</td>\n",
              "      <td>3025.675</td>\n",
              "      <td>16.220</td>\n",
              "      <td>1054.500</td>\n",
              "      <td>1.432</td>\n",
              "      <td>3041.406</td>\n",
              "      <td>35.621</td>\n",
              "      <td>3.735286</td>\n",
              "      <td>43.538365</td>\n",
              "    </tr>\n",
              "    <tr>\n",
              "      <th>3959</th>\n",
              "      <td>152.98</td>\n",
              "      <td>0.429</td>\n",
              "      <td>98.09</td>\n",
              "      <td>-0.589</td>\n",
              "      <td>159.31</td>\n",
              "      <td>0.387</td>\n",
              "      <td>-0.350</td>\n",
              "      <td>-0.068</td>\n",
              "      <td>-0.2337</td>\n",
              "      <td>-0.0696</td>\n",
              "      <td>...</td>\n",
              "      <td>1631.618</td>\n",
              "      <td>37.445</td>\n",
              "      <td>3025.675</td>\n",
              "      <td>16.220</td>\n",
              "      <td>1054.500</td>\n",
              "      <td>1.432</td>\n",
              "      <td>3041.406</td>\n",
              "      <td>35.621</td>\n",
              "      <td>3.735286</td>\n",
              "      <td>69.795902</td>\n",
              "    </tr>\n",
              "  </tbody>\n",
              "</table>\n",
              "<p>3960 rows × 121 columns</p>\n",
              "</div>\n",
              "      <button class=\"colab-df-convert\" onclick=\"convertToInteractive('df-2455e754-b771-456b-be9d-370e59337bc6')\"\n",
              "              title=\"Convert this dataframe to an interactive table.\"\n",
              "              style=\"display:none;\">\n",
              "        \n",
              "  <svg xmlns=\"http://www.w3.org/2000/svg\" height=\"24px\"viewBox=\"0 0 24 24\"\n",
              "       width=\"24px\">\n",
              "    <path d=\"M0 0h24v24H0V0z\" fill=\"none\"/>\n",
              "    <path d=\"M18.56 5.44l.94 2.06.94-2.06 2.06-.94-2.06-.94-.94-2.06-.94 2.06-2.06.94zm-11 1L8.5 8.5l.94-2.06 2.06-.94-2.06-.94L8.5 2.5l-.94 2.06-2.06.94zm10 10l.94 2.06.94-2.06 2.06-.94-2.06-.94-.94-2.06-.94 2.06-2.06.94z\"/><path d=\"M17.41 7.96l-1.37-1.37c-.4-.4-.92-.59-1.43-.59-.52 0-1.04.2-1.43.59L10.3 9.45l-7.72 7.72c-.78.78-.78 2.05 0 2.83L4 21.41c.39.39.9.59 1.41.59.51 0 1.02-.2 1.41-.59l7.78-7.78 2.81-2.81c.8-.78.8-2.07 0-2.86zM5.41 20L4 18.59l7.72-7.72 1.47 1.35L5.41 20z\"/>\n",
              "  </svg>\n",
              "      </button>\n",
              "      \n",
              "  <style>\n",
              "    .colab-df-container {\n",
              "      display:flex;\n",
              "      flex-wrap:wrap;\n",
              "      gap: 12px;\n",
              "    }\n",
              "\n",
              "    .colab-df-convert {\n",
              "      background-color: #E8F0FE;\n",
              "      border: none;\n",
              "      border-radius: 50%;\n",
              "      cursor: pointer;\n",
              "      display: none;\n",
              "      fill: #1967D2;\n",
              "      height: 32px;\n",
              "      padding: 0 0 0 0;\n",
              "      width: 32px;\n",
              "    }\n",
              "\n",
              "    .colab-df-convert:hover {\n",
              "      background-color: #E2EBFA;\n",
              "      box-shadow: 0px 1px 2px rgba(60, 64, 67, 0.3), 0px 1px 3px 1px rgba(60, 64, 67, 0.15);\n",
              "      fill: #174EA6;\n",
              "    }\n",
              "\n",
              "    [theme=dark] .colab-df-convert {\n",
              "      background-color: #3B4455;\n",
              "      fill: #D2E3FC;\n",
              "    }\n",
              "\n",
              "    [theme=dark] .colab-df-convert:hover {\n",
              "      background-color: #434B5C;\n",
              "      box-shadow: 0px 1px 3px 1px rgba(0, 0, 0, 0.15);\n",
              "      filter: drop-shadow(0px 1px 2px rgba(0, 0, 0, 0.3));\n",
              "      fill: #FFFFFF;\n",
              "    }\n",
              "  </style>\n",
              "\n",
              "      <script>\n",
              "        const buttonEl =\n",
              "          document.querySelector('#df-2455e754-b771-456b-be9d-370e59337bc6 button.colab-df-convert');\n",
              "        buttonEl.style.display =\n",
              "          google.colab.kernel.accessAllowed ? 'block' : 'none';\n",
              "\n",
              "        async function convertToInteractive(key) {\n",
              "          const element = document.querySelector('#df-2455e754-b771-456b-be9d-370e59337bc6');\n",
              "          const dataTable =\n",
              "            await google.colab.kernel.invokeFunction('convertToInteractive',\n",
              "                                                     [key], {});\n",
              "          if (!dataTable) return;\n",
              "\n",
              "          const docLinkHtml = 'Like what you see? Visit the ' +\n",
              "            '<a target=\"_blank\" href=https://colab.research.google.com/notebooks/data_table.ipynb>data table notebook</a>'\n",
              "            + ' to learn more about interactive tables.';\n",
              "          element.innerHTML = '';\n",
              "          dataTable['output_type'] = 'display_data';\n",
              "          await google.colab.output.renderOutput(dataTable, element);\n",
              "          const docLink = document.createElement('div');\n",
              "          docLink.innerHTML = docLinkHtml;\n",
              "          element.appendChild(docLink);\n",
              "        }\n",
              "      </script>\n",
              "    </div>\n",
              "  </div>\n",
              "  "
            ]
          },
          "metadata": {},
          "execution_count": 50
        }
      ],
      "source": [
        "data"
      ]
    },
    {
      "cell_type": "code",
      "execution_count": null,
      "metadata": {
        "id": "qPJ4Fuh6l3-T"
      },
      "outputs": [],
      "source": [
        "features =[\"additive_*C3_NMR_shift\",\n",
        "            \"aryl_halide_*C3_NMR_shift\",\"aryl_halide_*H2_electrostatic_charge\",\n",
        "            \"base_*N1_electrostatic_charge\",\"ligand_*C11_NMR_shift\",\n",
        "            \"additive_*C4_electrostatic_charge\",\"base_E_HOMO\",\"aryl_halide_V2_frequency\",\n",
        "            \"aryl_halide_E_LUMO\",\"additive_E_LUMO\"\n",
        "            ]\n",
        "X_data = data[features] # the 10 descriptors gave better prediction than the published paper.\n",
        "y_data = data['yield'] # Yield of the 3560 rows is stored in the y_data variable"
      ]
    },
    {
      "cell_type": "code",
      "execution_count": null,
      "metadata": {
        "id": "y0Q1mUZ1l3-U",
        "outputId": "cbffcff8-757a-49d8-bfdb-d794d5af5c3d",
        "colab": {
          "base_uri": "https://localhost:8080/"
        }
      },
      "outputs": [
        {
          "output_type": "execute_result",
          "data": {
            "text/plain": [
              "additive_*C3_NMR_shift               0\n",
              "additive_*C3_electrostatic_charge    0\n",
              "additive_*C4_NMR_shift               0\n",
              "additive_*C4_electrostatic_charge    0\n",
              "additive_*C5_NMR_shift               0\n",
              "                                    ..\n",
              "ligand_V8_intensity                  0\n",
              "ligand_V9_frequency                  0\n",
              "ligand_V9_intensity                  0\n",
              "ligand_dipole_moment                 0\n",
              "yield                                0\n",
              "Length: 121, dtype: int64"
            ]
          },
          "metadata": {},
          "execution_count": 52
        }
      ],
      "source": [
        "data.isna().sum()"
      ]
    },
    {
      "cell_type": "code",
      "execution_count": null,
      "metadata": {
        "id": "rgphyYcYl3-U",
        "outputId": "58993df7-6de3-43a4-8a06-0fd37074998d",
        "colab": {
          "base_uri": "https://localhost:8080/"
        }
      },
      "outputs": [
        {
          "output_type": "stream",
          "name": "stdout",
          "text": [
            "<class 'pandas.core.frame.DataFrame'>\n",
            "RangeIndex: 3960 entries, 0 to 3959\n",
            "Data columns (total 10 columns):\n",
            " #   Column                                Non-Null Count  Dtype  \n",
            "---  ------                                --------------  -----  \n",
            " 0   additive_*C3_NMR_shift                3960 non-null   float64\n",
            " 1   aryl_halide_*C3_NMR_shift             3960 non-null   float64\n",
            " 2   aryl_halide_*H2_electrostatic_charge  3960 non-null   float64\n",
            " 3   base_*N1_electrostatic_charge         3960 non-null   float64\n",
            " 4   ligand_*C11_NMR_shift                 3960 non-null   float64\n",
            " 5   additive_*C4_electrostatic_charge     3960 non-null   float64\n",
            " 6   base_E_HOMO                           3960 non-null   float64\n",
            " 7   aryl_halide_V2_frequency              3960 non-null   float64\n",
            " 8   aryl_halide_E_LUMO                    3960 non-null   float64\n",
            " 9   additive_E_LUMO                       3960 non-null   float64\n",
            "dtypes: float64(10)\n",
            "memory usage: 309.5 KB\n"
          ]
        }
      ],
      "source": [
        "X_data.info()"
      ]
    },
    {
      "cell_type": "code",
      "execution_count": null,
      "metadata": {
        "id": "_mqXIdPWl3-V",
        "outputId": "11365851-e262-4466-895d-038b34001460",
        "colab": {
          "base_uri": "https://localhost:8080/",
          "height": 679
        }
      },
      "outputs": [
        {
          "output_type": "execute_result",
          "data": {
            "text/plain": [
              "<matplotlib.axes._subplots.AxesSubplot at 0x7f760544ead0>"
            ]
          },
          "metadata": {},
          "execution_count": 54
        },
        {
          "output_type": "display_data",
          "data": {
            "text/plain": [
              "<Figure size 1080x576 with 2 Axes>"
            ],
            "image/png": "[encoded data removed]"
          },
          "metadata": {
            "needs_background": "light"
          }
        }
      ],
      "source": [
        "# Set the width and height of the figure\n",
        "plt.figure(figsize=(15,8))\n",
        "# Generate heatmap for the 10 columns or descriptors\n",
        "sn.heatmap(data=X_data,yticklabels=360)"
      ]
    },
    {
      "cell_type": "code",
      "execution_count": null,
      "metadata": {
        "id": "iqRfeeRUl3-V"
      },
      "outputs": [],
      "source": [
        "# predicting the effects of additives on yield in plate 3 using plate 1 and plate 2 as training sets  \n",
        "# Predict plate 3 (index: 2520:3960))  using plate 1 and plate 2 ( index 0:2520)\n",
        "X_train, X_test, y_train, y_test = X_data[:2520], X_data[2520:], y_data[:2520], y_data[2520:]\n",
        "rf = RandomForestRegressor(n_estimators=100, random_state=42)"
      ]
    },
    {
      "cell_type": "code",
      "execution_count": null,
      "metadata": {
        "id": "6rOI6wcsl3-V"
      },
      "outputs": [],
      "source": [
        "# Data preprocessing or normalization\n",
        "# scale train set\n",
        "scaler = StandardScaler()\n",
        "X_train = scaler.fit_transform(X_train)\n",
        "# scale test set\n",
        "X_test = scaler.transform(X_test)"
      ]
    },
    {
      "cell_type": "code",
      "execution_count": null,
      "metadata": {
        "id": "O6R8RFQDl3-W",
        "outputId": "16b7bb0b-3b08-46a5-b7a6-68bad0e3297b",
        "colab": {
          "base_uri": "https://localhost:8080/",
          "height": 504
        }
      },
      "outputs": [
        {
          "output_type": "execute_result",
          "data": {
            "text/plain": [
              "<matplotlib.axes._subplots.AxesSubplot at 0x7f7606baec90>"
            ]
          },
          "metadata": {},
          "execution_count": 57
        },
        {
          "output_type": "display_data",
          "data": {
            "text/plain": [
              "<Figure size 1080x576 with 2 Axes>"
            ],
            "image/png": "[encoded data removed]"
          },
          "metadata": {
            "needs_background": "light"
          }
        }
      ],
      "source": [
        "plt.figure(figsize=(15,8))\n",
        "sn.heatmap(data=X_train,yticklabels=360)"
      ]
    },
    {
      "cell_type": "code",
      "execution_count": null,
      "metadata": {
        "id": "uixqDFJll3-W",
        "outputId": "d99e2826-8b16-486b-b84a-c2ab18497fc7",
        "colab": {
          "base_uri": "https://localhost:8080/"
        }
      },
      "outputs": [
        {
          "output_type": "execute_result",
          "data": {
            "text/plain": [
              "(2520, 10)"
            ]
          },
          "metadata": {},
          "execution_count": 58
        }
      ],
      "source": [
        "X_train.shape"
      ]
    },
    {
      "cell_type": "code",
      "execution_count": null,
      "metadata": {
        "id": "zrrhbUz-l3-W",
        "outputId": "d75626a4-db02-4fc5-c1c3-3e7d485b8ed5",
        "colab": {
          "base_uri": "https://localhost:8080/",
          "height": 488
        }
      },
      "outputs": [
        {
          "output_type": "execute_result",
          "data": {
            "text/plain": [
              "      additive_*C3_NMR_shift  aryl_halide_*C3_NMR_shift  \\\n",
              "0                     143.12                     120.97   \n",
              "1                     143.12                     120.95   \n",
              "2                     143.12                     181.37   \n",
              "3                     143.12                     112.08   \n",
              "4                     143.12                     112.39   \n",
              "...                      ...                        ...   \n",
              "3955                  152.98                     129.62   \n",
              "3956                  152.98                     256.46   \n",
              "3957                  152.98                     117.10   \n",
              "3958                  152.98                     117.61   \n",
              "3959                  152.98                     444.44   \n",
              "\n",
              "      aryl_halide_*H2_electrostatic_charge  base_*N1_electrostatic_charge  \\\n",
              "0                                    0.143                         -0.755   \n",
              "1                                    0.100                         -0.755   \n",
              "2                                    0.083                         -0.755   \n",
              "3                                    0.137                         -0.755   \n",
              "4                                    0.099                         -0.755   \n",
              "...                                    ...                            ...   \n",
              "3955                                 0.138                         -0.611   \n",
              "3956                                 0.137                         -0.611   \n",
              "3957                                 0.102                         -0.611   \n",
              "3958                                 0.065                         -0.611   \n",
              "3959                                 0.042                         -0.611   \n",
              "\n",
              "      ligand_*C11_NMR_shift  additive_*C4_electrostatic_charge  base_E_HOMO  \\\n",
              "0                    114.03                             -0.447      -0.1703   \n",
              "1                    114.03                             -0.447      -0.1703   \n",
              "2                    114.03                             -0.447      -0.1703   \n",
              "3                    114.03                             -0.447      -0.1703   \n",
              "4                    114.03                             -0.447      -0.1703   \n",
              "...                     ...                                ...          ...   \n",
              "3955                 114.09                             -0.589      -0.1913   \n",
              "3956                 114.09                             -0.589      -0.1913   \n",
              "3957                 114.09                             -0.589      -0.1913   \n",
              "3958                 114.09                             -0.589      -0.1913   \n",
              "3959                 114.09                             -0.589      -0.1913   \n",
              "\n",
              "      aryl_halide_V2_frequency  aryl_halide_E_LUMO  additive_E_LUMO  \n",
              "0                     1351.720             -0.0396          -0.0487  \n",
              "1                     1349.391             -0.0413          -0.0487  \n",
              "2                     1346.735             -0.0429          -0.0487  \n",
              "3                     1351.340             -0.0118          -0.0487  \n",
              "4                     1532.172             -0.3500          -0.0487  \n",
              "...                        ...                 ...              ...  \n",
              "3955                  1311.840             -0.0391          -0.0696  \n",
              "3956                  1305.598             -0.0383          -0.0696  \n",
              "3957                  1298.019             -0.0380          -0.0696  \n",
              "3958                  1295.516             -0.0390          -0.0696  \n",
              "3959                  1291.420             -0.0395          -0.0696  \n",
              "\n",
              "[3960 rows x 10 columns]"
            ],
            "text/html": [
              "\n",
              "  <div id=\"df-ed79c07c-5af7-443e-8e02-515ed5399926\">\n",
              "    <div class=\"colab-df-container\">\n",
              "      <div>\n",
              "<style scoped>\n",
              "    .dataframe tbody tr th:only-of-type {\n",
              "        vertical-align: middle;\n",
              "    }\n",
              "\n",
              "    .dataframe tbody tr th {\n",
              "        vertical-align: top;\n",
              "    }\n",
              "\n",
              "    .dataframe thead th {\n",
              "        text-align: right;\n",
              "    }\n",
              "</style>\n",
              "<table border=\"1\" class=\"dataframe\">\n",
              "  <thead>\n",
              "    <tr style=\"text-align: right;\">\n",
              "      <th></th>\n",
              "      <th>additive_*C3_NMR_shift</th>\n",
              "      <th>aryl_halide_*C3_NMR_shift</th>\n",
              "      <th>aryl_halide_*H2_electrostatic_charge</th>\n",
              "      <th>base_*N1_electrostatic_charge</th>\n",
              "      <th>ligand_*C11_NMR_shift</th>\n",
              "      <th>additive_*C4_electrostatic_charge</th>\n",
              "      <th>base_E_HOMO</th>\n",
              "      <th>aryl_halide_V2_frequency</th>\n",
              "      <th>aryl_halide_E_LUMO</th>\n",
              "      <th>additive_E_LUMO</th>\n",
              "    </tr>\n",
              "  </thead>\n",
              "  <tbody>\n",
              "    <tr>\n",
              "      <th>0</th>\n",
              "      <td>143.12</td>\n",
              "      <td>120.97</td>\n",
              "      <td>0.143</td>\n",
              "      <td>-0.755</td>\n",
              "      <td>114.03</td>\n",
              "      <td>-0.447</td>\n",
              "      <td>-0.1703</td>\n",
              "      <td>1351.720</td>\n",
              "      <td>-0.0396</td>\n",
              "      <td>-0.0487</td>\n",
              "    </tr>\n",
              "    <tr>\n",
              "      <th>1</th>\n",
              "      <td>143.12</td>\n",
              "      <td>120.95</td>\n",
              "      <td>0.100</td>\n",
              "      <td>-0.755</td>\n",
              "      <td>114.03</td>\n",
              "      <td>-0.447</td>\n",
              "      <td>-0.1703</td>\n",
              "      <td>1349.391</td>\n",
              "      <td>-0.0413</td>\n",
              "      <td>-0.0487</td>\n",
              "    </tr>\n",
              "    <tr>\n",
              "      <th>2</th>\n",
              "      <td>143.12</td>\n",
              "      <td>181.37</td>\n",
              "      <td>0.083</td>\n",
              "      <td>-0.755</td>\n",
              "      <td>114.03</td>\n",
              "      <td>-0.447</td>\n",
              "      <td>-0.1703</td>\n",
              "      <td>1346.735</td>\n",
              "      <td>-0.0429</td>\n",
              "      <td>-0.0487</td>\n",
              "    </tr>\n",
              "    <tr>\n",
              "      <th>3</th>\n",
              "      <td>143.12</td>\n",
              "      <td>112.08</td>\n",
              "      <td>0.137</td>\n",
              "      <td>-0.755</td>\n",
              "      <td>114.03</td>\n",
              "      <td>-0.447</td>\n",
              "      <td>-0.1703</td>\n",
              "      <td>1351.340</td>\n",
              "      <td>-0.0118</td>\n",
              "      <td>-0.0487</td>\n",
              "    </tr>\n",
              "    <tr>\n",
              "      <th>4</th>\n",
              "      <td>143.12</td>\n",
              "      <td>112.39</td>\n",
              "      <td>0.099</td>\n",
              "      <td>-0.755</td>\n",
              "      <td>114.03</td>\n",
              "      <td>-0.447</td>\n",
              "      <td>-0.1703</td>\n",
              "      <td>1532.172</td>\n",
              "      <td>-0.3500</td>\n",
              "      <td>-0.0487</td>\n",
              "    </tr>\n",
              "    <tr>\n",
              "      <th>...</th>\n",
              "      <td>...</td>\n",
              "      <td>...</td>\n",
              "      <td>...</td>\n",
              "      <td>...</td>\n",
              "      <td>...</td>\n",
              "      <td>...</td>\n",
              "      <td>...</td>\n",
              "      <td>...</td>\n",
              "      <td>...</td>\n",
              "      <td>...</td>\n",
              "    </tr>\n",
              "    <tr>\n",
              "      <th>3955</th>\n",
              "      <td>152.98</td>\n",
              "      <td>129.62</td>\n",
              "      <td>0.138</td>\n",
              "      <td>-0.611</td>\n",
              "      <td>114.09</td>\n",
              "      <td>-0.589</td>\n",
              "      <td>-0.1913</td>\n",
              "      <td>1311.840</td>\n",
              "      <td>-0.0391</td>\n",
              "      <td>-0.0696</td>\n",
              "    </tr>\n",
              "    <tr>\n",
              "      <th>3956</th>\n",
              "      <td>152.98</td>\n",
              "      <td>256.46</td>\n",
              "      <td>0.137</td>\n",
              "      <td>-0.611</td>\n",
              "      <td>114.09</td>\n",
              "      <td>-0.589</td>\n",
              "      <td>-0.1913</td>\n",
              "      <td>1305.598</td>\n",
              "      <td>-0.0383</td>\n",
              "      <td>-0.0696</td>\n",
              "    </tr>\n",
              "    <tr>\n",
              "      <th>3957</th>\n",
              "      <td>152.98</td>\n",
              "      <td>117.10</td>\n",
              "      <td>0.102</td>\n",
              "      <td>-0.611</td>\n",
              "      <td>114.09</td>\n",
              "      <td>-0.589</td>\n",
              "      <td>-0.1913</td>\n",
              "      <td>1298.019</td>\n",
              "      <td>-0.0380</td>\n",
              "      <td>-0.0696</td>\n",
              "    </tr>\n",
              "    <tr>\n",
              "      <th>3958</th>\n",
              "      <td>152.98</td>\n",
              "      <td>117.61</td>\n",
              "      <td>0.065</td>\n",
              "      <td>-0.611</td>\n",
              "      <td>114.09</td>\n",
              "      <td>-0.589</td>\n",
              "      <td>-0.1913</td>\n",
              "      <td>1295.516</td>\n",
              "      <td>-0.0390</td>\n",
              "      <td>-0.0696</td>\n",
              "    </tr>\n",
              "    <tr>\n",
              "      <th>3959</th>\n",
              "      <td>152.98</td>\n",
              "      <td>444.44</td>\n",
              "      <td>0.042</td>\n",
              "      <td>-0.611</td>\n",
              "      <td>114.09</td>\n",
              "      <td>-0.589</td>\n",
              "      <td>-0.1913</td>\n",
              "      <td>1291.420</td>\n",
              "      <td>-0.0395</td>\n",
              "      <td>-0.0696</td>\n",
              "    </tr>\n",
              "  </tbody>\n",
              "</table>\n",
              "<p>3960 rows × 10 columns</p>\n",
              "</div>\n",
              "      <button class=\"colab-df-convert\" onclick=\"convertToInteractive('df-ed79c07c-5af7-443e-8e02-515ed5399926')\"\n",
              "              title=\"Convert this dataframe to an interactive table.\"\n",
              "              style=\"display:none;\">\n",
              "        \n",
              "  <svg xmlns=\"http://www.w3.org/2000/svg\" height=\"24px\"viewBox=\"0 0 24 24\"\n",
              "       width=\"24px\">\n",
              "    <path d=\"M0 0h24v24H0V0z\" fill=\"none\"/>\n",
              "    <path d=\"M18.56 5.44l.94 2.06.94-2.06 2.06-.94-2.06-.94-.94-2.06-.94 2.06-2.06.94zm-11 1L8.5 8.5l.94-2.06 2.06-.94-2.06-.94L8.5 2.5l-.94 2.06-2.06.94zm10 10l.94 2.06.94-2.06 2.06-.94-2.06-.94-.94-2.06-.94 2.06-2.06.94z\"/><path d=\"M17.41 7.96l-1.37-1.37c-.4-.4-.92-.59-1.43-.59-.52 0-1.04.2-1.43.59L10.3 9.45l-7.72 7.72c-.78.78-.78 2.05 0 2.83L4 21.41c.39.39.9.59 1.41.59.51 0 1.02-.2 1.41-.59l7.78-7.78 2.81-2.81c.8-.78.8-2.07 0-2.86zM5.41 20L4 18.59l7.72-7.72 1.47 1.35L5.41 20z\"/>\n",
              "  </svg>\n",
              "      </button>\n",
              "      \n",
              "  <style>\n",
              "    .colab-df-container {\n",
              "      display:flex;\n",
              "      flex-wrap:wrap;\n",
              "      gap: 12px;\n",
              "    }\n",
              "\n",
              "    .colab-df-convert {\n",
              "      background-color: #E8F0FE;\n",
              "      border: none;\n",
              "      border-radius: 50%;\n",
              "      cursor: pointer;\n",
              "      display: none;\n",
              "      fill: #1967D2;\n",
              "      height: 32px;\n",
              "      padding: 0 0 0 0;\n",
              "      width: 32px;\n",
              "    }\n",
              "\n",
              "    .colab-df-convert:hover {\n",
              "      background-color: #E2EBFA;\n",
              "      box-shadow: 0px 1px 2px rgba(60, 64, 67, 0.3), 0px 1px 3px 1px rgba(60, 64, 67, 0.15);\n",
              "      fill: #174EA6;\n",
              "    }\n",
              "\n",
              "    [theme=dark] .colab-df-convert {\n",
              "      background-color: #3B4455;\n",
              "      fill: #D2E3FC;\n",
              "    }\n",
              "\n",
              "    [theme=dark] .colab-df-convert:hover {\n",
              "      background-color: #434B5C;\n",
              "      box-shadow: 0px 1px 3px 1px rgba(0, 0, 0, 0.15);\n",
              "      filter: drop-shadow(0px 1px 2px rgba(0, 0, 0, 0.3));\n",
              "      fill: #FFFFFF;\n",
              "    }\n",
              "  </style>\n",
              "\n",
              "      <script>\n",
              "        const buttonEl =\n",
              "          document.querySelector('#df-ed79c07c-5af7-443e-8e02-515ed5399926 button.colab-df-convert');\n",
              "        buttonEl.style.display =\n",
              "          google.colab.kernel.accessAllowed ? 'block' : 'none';\n",
              "\n",
              "        async function convertToInteractive(key) {\n",
              "          const element = document.querySelector('#df-ed79c07c-5af7-443e-8e02-515ed5399926');\n",
              "          const dataTable =\n",
              "            await google.colab.kernel.invokeFunction('convertToInteractive',\n",
              "                                                     [key], {});\n",
              "          if (!dataTable) return;\n",
              "\n",
              "          const docLinkHtml = 'Like what you see? Visit the ' +\n",
              "            '<a target=\"_blank\" href=https://colab.research.google.com/notebooks/data_table.ipynb>data table notebook</a>'\n",
              "            + ' to learn more about interactive tables.';\n",
              "          element.innerHTML = '';\n",
              "          dataTable['output_type'] = 'display_data';\n",
              "          await google.colab.output.renderOutput(dataTable, element);\n",
              "          const docLink = document.createElement('div');\n",
              "          docLink.innerHTML = docLinkHtml;\n",
              "          element.appendChild(docLink);\n",
              "        }\n",
              "      </script>\n",
              "    </div>\n",
              "  </div>\n",
              "  "
            ]
          },
          "metadata": {},
          "execution_count": 59
        }
      ],
      "source": [
        "X_data"
      ]
    },
    {
      "cell_type": "code",
      "execution_count": null,
      "metadata": {
        "id": "e9TxlXN-l3-W"
      },
      "outputs": [],
      "source": [
        "# change yield to numpy array\n",
        "y_train = np.array(y_train)\n",
        "y_test = np.array(y_test)"
      ]
    },
    {
      "cell_type": "code",
      "execution_count": null,
      "metadata": {
        "id": "OT2YjGmel3-X"
      },
      "outputs": [],
      "source": [
        "# cross validation score\n",
        "scores= cross_validate(rf,X_train,y_train,scoring=('r2','neg_mean_squared_error'),cv=10)"
      ]
    },
    {
      "cell_type": "code",
      "execution_count": null,
      "metadata": {
        "id": "KsQQ25aHl3-X",
        "outputId": "53408403-688c-4b30-f040-46d715a6552f",
        "colab": {
          "base_uri": "https://localhost:8080/"
        }
      },
      "outputs": [
        {
          "output_type": "execute_result",
          "data": {
            "text/plain": [
              "dict_keys(['fit_time', 'score_time', 'test_r2', 'test_neg_mean_squared_error'])"
            ]
          },
          "metadata": {},
          "execution_count": 62
        }
      ],
      "source": [
        "scores.keys()"
      ]
    },
    {
      "cell_type": "code",
      "execution_count": null,
      "metadata": {
        "id": "R9a9Z_Ifl3-X",
        "outputId": "f67b4fc7-84a4-4fdf-bd69-da0981790d7d",
        "colab": {
          "base_uri": "https://localhost:8080/"
        }
      },
      "outputs": [
        {
          "output_type": "execute_result",
          "data": {
            "text/plain": [
              "array([0.89615134, 0.94017939, 0.81124532, 0.87994567, 0.89287031,\n",
              "       0.89114254, 0.93253278, 0.64277179, 0.86612291, 0.90716198])"
            ]
          },
          "metadata": {},
          "execution_count": 63
        }
      ],
      "source": [
        "scores['test_r2']"
      ]
    },
    {
      "cell_type": "code",
      "execution_count": null,
      "metadata": {
        "id": "ML8Axiy4l3-X",
        "outputId": "ad17599c-8d66-48a4-ac30-05e2e9662bc0",
        "colab": {
          "base_uri": "https://localhost:8080/"
        }
      },
      "outputs": [
        {
          "output_type": "execute_result",
          "data": {
            "text/plain": [
              "array([ 8.77187959,  7.51024678, 11.77969962, 10.77464938,  8.98799197,\n",
              "        8.56190656,  7.20386873, 10.04895202,  9.1053604 ,  7.41002798])"
            ]
          },
          "metadata": {},
          "execution_count": 64
        }
      ],
      "source": [
        "np.sqrt(-scores['test_neg_mean_squared_error'])"
      ]
    },
    {
      "cell_type": "code",
      "execution_count": null,
      "metadata": {
        "id": "odey8g5cl3-X"
      },
      "outputs": [],
      "source": [
        "# Model Training and prediction\n",
        "rf.fit(X_train,y_train) # training using 70% of the data\n",
        "predicted_yield =rf.predict(X_test) # predicting yield for 30% of the data"
      ]
    },
    {
      "cell_type": "code",
      "execution_count": null,
      "metadata": {
        "id": "MFbpwgDpl3-Y",
        "outputId": "05c4917f-4f07-4d8b-f82c-9c798ad2f72e",
        "colab": {
          "base_uri": "https://localhost:8080/"
        }
      },
      "outputs": [
        {
          "output_type": "stream",
          "name": "stdout",
          "text": [
            "rmse: 11.255806705631763\n"
          ]
        }
      ],
      "source": [
        "# Model accuracy using root mean square error \n",
        "rmse = np.sqrt(mean_squared_error(y_test, predicted_yield )) \n",
        "print('rmse:', rmse)"
      ]
    },
    {
      "cell_type": "code",
      "execution_count": null,
      "metadata": {
        "id": "kht880DOl3-Y",
        "outputId": "14712d95-9eb1-4297-d922-ba6c9e5972a5",
        "colab": {
          "base_uri": "https://localhost:8080/"
        }
      },
      "outputs": [
        {
          "output_type": "stream",
          "name": "stdout",
          "text": [
            "R^2: 0.8099551006176957\n"
          ]
        }
      ],
      "source": [
        "# R^2 (coefficient of determination) regression score function: \n",
        "R2 =r2_score(y_test, predicted_yield ) \n",
        "print('R^2:', R2)"
      ]
    },
    {
      "cell_type": "code",
      "execution_count": null,
      "metadata": {
        "id": "TX-yIwfEl3-Y",
        "outputId": "4b5257f1-4b23-4929-d405-dcfb44821002",
        "colab": {
          "base_uri": "https://localhost:8080/",
          "height": 368
        }
      },
      "outputs": [
        {
          "output_type": "execute_result",
          "data": {
            "text/plain": [
              "<matplotlib.legend.Legend at 0x7f7606ad5c10>"
            ]
          },
          "metadata": {},
          "execution_count": 68
        },
        {
          "output_type": "display_data",
          "data": {
            "text/plain": [
              "<Figure size 360x360 with 1 Axes>"
            ],
            "image/png": "[encoded data removed]"
          },
          "metadata": {
            "needs_background": "light"
          }
        }
      ],
      "source": [
        "# from the publication RMSE = 11% and R2 = 0.83\n",
        "plt.figure(figsize=(5,5))\n",
        "sn.regplot(x=predicted_yield , y=y_test,line_kws={\"lw\":2,'ls':'--','color':'black',\"alpha\":0.7})\n",
        "plt.xlabel('Predicted Yield', color='blue')\n",
        "plt.ylabel('Observed Yield', color ='blue')\n",
        "plt.title(\"Random Forest (Plate 3 Prediction)\", color='red')\n",
        "plt.grid(alpha=0.2)\n",
        "R2 = mpatches.Patch(label=\"R2={:04.2f}\".format(R2))\n",
        "rmse = mpatches.Patch(label=\"RMSE={:04.2f}\".format(rmse))\n",
        "plt.legend(handles=[R2, rmse])"
      ]
    },
    {
      "cell_type": "code",
      "execution_count": null,
      "metadata": {
        "id": "tuvPP4mHl3-Y"
      },
      "outputs": [],
      "source": [
        "# XGBoost the most widely used ML model in kaggle competition\n",
        "from xgboost import XGBRegressor\n",
        "xgb = XGBRegressor(n_estimators=100, random_state=42)"
      ]
    },
    {
      "cell_type": "code",
      "execution_count": null,
      "metadata": {
        "id": "ffulQq-el3-Y",
        "outputId": "00ee1dea-d66b-4ec4-da6b-8735fe0fba29",
        "colab": {
          "base_uri": "https://localhost:8080/"
        }
      },
      "outputs": [
        {
          "output_type": "stream",
          "name": "stdout",
          "text": [
            "[04:57:40] WARNING: /workspace/src/objective/regression_obj.cu:152: reg:linear is now deprecated in favor of reg:squarederror.\n"
          ]
        }
      ],
      "source": [
        "# Model Training and prediction\n",
        "xgb.fit(X_train,y_train) # training using 70% of the data\n",
        "predicted_yield2 = xgb.predict(X_test) # predicting yield for 30% of the data"
      ]
    },
    {
      "cell_type": "code",
      "execution_count": null,
      "metadata": {
        "id": "ncR4BTRkl3-Z",
        "outputId": "f1094806-775c-41f3-b8a4-88b69236152f",
        "colab": {
          "base_uri": "https://localhost:8080/"
        }
      },
      "outputs": [
        {
          "output_type": "stream",
          "name": "stdout",
          "text": [
            "rmse: 13.17001180779102\n"
          ]
        }
      ],
      "source": [
        "# Model accuracy using root mean square error \n",
        "rmse2 = np.sqrt(mean_squared_error(y_test, predicted_yield2))  \n",
        "print('rmse:', rmse2)"
      ]
    },
    {
      "cell_type": "code",
      "execution_count": null,
      "metadata": {
        "id": "bgFJrAMFl3-Z",
        "outputId": "80d78bff-c12a-49d5-ccf7-349ed6f75a51",
        "colab": {
          "base_uri": "https://localhost:8080/"
        }
      },
      "outputs": [
        {
          "output_type": "stream",
          "name": "stdout",
          "text": [
            "R^2: 0.7398191705321411\n"
          ]
        }
      ],
      "source": [
        "# R^2 (coefficient of determination) regression score function: \n",
        "R_2 = r2_score(y_test, predicted_yield2)\n",
        "print('R^2:', R_2)"
      ]
    },
    {
      "cell_type": "code",
      "execution_count": null,
      "metadata": {
        "id": "Lhsf0Wjsl3-Z",
        "outputId": "ac964f6f-c476-42a7-fcb6-15c748a74539",
        "colab": {
          "base_uri": "https://localhost:8080/",
          "height": 368
        }
      },
      "outputs": [
        {
          "output_type": "execute_result",
          "data": {
            "text/plain": [
              "<matplotlib.legend.Legend at 0x7f7606a47bd0>"
            ]
          },
          "metadata": {},
          "execution_count": 73
        },
        {
          "output_type": "display_data",
          "data": {
            "text/plain": [
              "<Figure size 360x360 with 1 Axes>"
            ],
            "image/png": "[encoded data removed]"
          },
          "metadata": {
            "needs_background": "light"
          }
        }
      ],
      "source": [
        "fig = plt.figure(figsize=(5,5))\n",
        "sn.regplot(x=predicted_yield2, y=y_test,line_kws={\"lw\":2,'ls':'--','color':'black',\"alpha\":0.2})\n",
        "plt.xlabel('Predicted Yield', color='blue')\n",
        "plt.ylabel('Observed Yield', color ='blue')\n",
        "plt.title(\"XGBoost\", color='red')\n",
        "plt.grid(alpha=0.2)\n",
        "R_2 = mpatches.Patch(label=\"R2={:04.2f}\".format(R_2))\n",
        "rmse2 = mpatches.Patch(label=\"RMSE={:04.2f}\".format(rmse2))\n",
        "plt.legend(handles=[R_2, rmse2])"
      ]
    },
    {
      "cell_type": "code",
      "execution_count": null,
      "metadata": {
        "id": "C9vaRNXOl3-Z"
      },
      "outputs": [],
      "source": [
        "# # Neural network\n",
        "# sr = MLPRegressor(hidden_layer_sizes=(1200),\n",
        "#                        activation='logistic',\n",
        "#                        solver='sgd',\n",
        "#                        max_iter=10000,\n",
        "#                        random_state=42)\n",
        "# sr.fit(X_train,y_train)\n",
        "# predicted_yield3 = sr.predict(X_test)"
      ]
    },
    {
      "cell_type": "code",
      "execution_count": null,
      "metadata": {
        "id": "2UXrPK99l3-Z"
      },
      "outputs": [],
      "source": [
        "# # R^2 (coefficient of determination) regression score function: \n",
        "# R_3 = r2_score(y_test, predicted_yield3)\n",
        "# print('R^2:', R_3)"
      ]
    },
    {
      "cell_type": "code",
      "execution_count": null,
      "metadata": {
        "id": "5EPJksNTl3-Z"
      },
      "outputs": [],
      "source": [
        "model = keras.Sequential([\n",
        "    layers.Input(shape=(10,)),\n",
        "    layers.Dense(32, activation='relu'),\n",
        "    layers.Dense(32, activation='relu'),\n",
        "    layers.Dense(32, activation='relu'),\n",
        "    layers.Dropout(0.2),\n",
        "    layers.Dense(32, activation='relu'),\n",
        "    layers.Dense(1)\n",
        "])"
      ]
    },
    {
      "cell_type": "code",
      "execution_count": null,
      "metadata": {
        "id": "tiP98Dnyl3-Z"
      },
      "outputs": [],
      "source": [
        "model.compile(loss='mean_absolute_error',\n",
        "                optimizer=tf.keras.optimizers.Adam(0.001))"
      ]
    },
    {
      "cell_type": "code",
      "execution_count": null,
      "metadata": {
        "id": "Pz0Bk4h9l3-Z",
        "outputId": "1748d9c2-fe6d-49d5-e236-5fab0c770152",
        "colab": {
          "base_uri": "https://localhost:8080/"
        }
      },
      "outputs": [
        {
          "output_type": "stream",
          "name": "stdout",
          "text": [
            "Model: \"sequential_1\"\n",
            "_________________________________________________________________\n",
            " Layer (type)                Output Shape              Param #   \n",
            "=================================================================\n",
            " dense_5 (Dense)             (None, 32)                352       \n",
            "                                                                 \n",
            " dense_6 (Dense)             (None, 32)                1056      \n",
            "                                                                 \n",
            " dense_7 (Dense)             (None, 32)                1056      \n",
            "                                                                 \n",
            " dropout_1 (Dropout)         (None, 32)                0         \n",
            "                                                                 \n",
            " dense_8 (Dense)             (None, 32)                1056      \n",
            "                                                                 \n",
            " dense_9 (Dense)             (None, 1)                 33        \n",
            "                                                                 \n",
            "=================================================================\n",
            "Total params: 3,553\n",
            "Trainable params: 3,553\n",
            "Non-trainable params: 0\n",
            "_________________________________________________________________\n"
          ]
        }
      ],
      "source": [
        "model.summary()"
      ]
    },
    {
      "cell_type": "code",
      "execution_count": null,
      "metadata": {
        "id": "uwN-D0Gdl3-a",
        "outputId": "b02f46c1-bf90-4869-ae4c-83e2b61a3574",
        "colab": {
          "base_uri": "https://localhost:8080/"
        }
      },
      "outputs": [
        {
          "output_type": "stream",
          "name": "stdout",
          "text": [
            "Epoch 1/50\n",
            "63/63 [==============================] - 1s 5ms/step - loss: 29.9514 - val_loss: 19.6506\n",
            "Epoch 2/50\n",
            "63/63 [==============================] - 0s 4ms/step - loss: 20.4199 - val_loss: 17.0705\n",
            "Epoch 3/50\n",
            "63/63 [==============================] - 0s 3ms/step - loss: 18.4032 - val_loss: 16.3252\n",
            "Epoch 4/50\n",
            "63/63 [==============================] - 0s 3ms/step - loss: 17.9633 - val_loss: 15.8487\n",
            "Epoch 5/50\n",
            "63/63 [==============================] - 0s 3ms/step - loss: 17.3182 - val_loss: 15.5043\n",
            "Epoch 6/50\n",
            "63/63 [==============================] - 0s 3ms/step - loss: 16.4927 - val_loss: 15.2843\n",
            "Epoch 7/50\n",
            "63/63 [==============================] - 0s 3ms/step - loss: 16.0731 - val_loss: 14.5632\n",
            "Epoch 8/50\n",
            "63/63 [==============================] - 0s 3ms/step - loss: 15.2220 - val_loss: 14.4515\n",
            "Epoch 9/50\n",
            "63/63 [==============================] - 0s 3ms/step - loss: 14.8105 - val_loss: 14.2032\n",
            "Epoch 10/50\n",
            "63/63 [==============================] - 0s 3ms/step - loss: 14.2627 - val_loss: 14.0476\n",
            "Epoch 11/50\n",
            "63/63 [==============================] - 0s 3ms/step - loss: 13.8930 - val_loss: 14.3668\n",
            "Epoch 12/50\n",
            "63/63 [==============================] - 0s 3ms/step - loss: 13.4230 - val_loss: 14.4359\n",
            "Epoch 13/50\n",
            "63/63 [==============================] - 0s 3ms/step - loss: 13.3246 - val_loss: 14.2670\n",
            "Epoch 14/50\n",
            "63/63 [==============================] - 0s 3ms/step - loss: 12.9910 - val_loss: 15.0157\n",
            "Epoch 15/50\n",
            "63/63 [==============================] - 0s 3ms/step - loss: 13.0145 - val_loss: 14.4346\n",
            "Epoch 16/50\n",
            "63/63 [==============================] - 0s 3ms/step - loss: 12.7459 - val_loss: 14.5537\n",
            "Epoch 17/50\n",
            "63/63 [==============================] - 0s 3ms/step - loss: 12.5748 - val_loss: 14.7479\n",
            "Epoch 18/50\n",
            "63/63 [==============================] - 0s 3ms/step - loss: 12.5620 - val_loss: 14.9003\n",
            "Epoch 19/50\n",
            "63/63 [==============================] - 0s 3ms/step - loss: 12.5327 - val_loss: 14.9840\n",
            "Epoch 20/50\n",
            "63/63 [==============================] - 0s 3ms/step - loss: 12.4201 - val_loss: 15.0554\n",
            "Epoch 21/50\n",
            "63/63 [==============================] - 0s 3ms/step - loss: 12.2174 - val_loss: 15.5202\n",
            "Epoch 22/50\n",
            "63/63 [==============================] - 0s 3ms/step - loss: 12.2524 - val_loss: 14.4539\n",
            "Epoch 23/50\n",
            "63/63 [==============================] - 0s 3ms/step - loss: 12.1451 - val_loss: 14.6631\n",
            "Epoch 24/50\n",
            "63/63 [==============================] - 0s 3ms/step - loss: 11.8560 - val_loss: 14.6345\n",
            "Epoch 25/50\n",
            "63/63 [==============================] - 0s 3ms/step - loss: 12.1197 - val_loss: 15.1030\n",
            "Epoch 26/50\n",
            "63/63 [==============================] - 0s 3ms/step - loss: 11.9372 - val_loss: 14.4963\n",
            "Epoch 27/50\n",
            "63/63 [==============================] - 0s 3ms/step - loss: 11.8287 - val_loss: 15.2252\n",
            "Epoch 28/50\n",
            "63/63 [==============================] - 0s 3ms/step - loss: 11.8396 - val_loss: 15.0203\n",
            "Epoch 29/50\n",
            "63/63 [==============================] - 0s 3ms/step - loss: 11.9668 - val_loss: 15.2810\n",
            "Epoch 30/50\n",
            "63/63 [==============================] - 0s 3ms/step - loss: 11.7607 - val_loss: 14.8738\n",
            "Epoch 31/50\n",
            "63/63 [==============================] - 0s 3ms/step - loss: 11.8006 - val_loss: 15.6534\n",
            "Epoch 32/50\n",
            "63/63 [==============================] - 0s 4ms/step - loss: 11.8696 - val_loss: 15.2576\n",
            "Epoch 33/50\n",
            "63/63 [==============================] - 0s 3ms/step - loss: 11.7383 - val_loss: 15.3858\n",
            "Epoch 34/50\n",
            "63/63 [==============================] - 0s 3ms/step - loss: 11.4906 - val_loss: 15.6282\n",
            "Epoch 35/50\n",
            "63/63 [==============================] - 0s 4ms/step - loss: 11.5083 - val_loss: 15.4435\n",
            "Epoch 36/50\n",
            "63/63 [==============================] - 0s 3ms/step - loss: 11.5673 - val_loss: 15.1210\n",
            "Epoch 37/50\n",
            "63/63 [==============================] - 0s 3ms/step - loss: 11.4851 - val_loss: 15.0126\n",
            "Epoch 38/50\n",
            "63/63 [==============================] - 0s 3ms/step - loss: 11.2285 - val_loss: 14.7929\n",
            "Epoch 39/50\n",
            "63/63 [==============================] - 0s 3ms/step - loss: 11.4238 - val_loss: 14.8875\n",
            "Epoch 40/50\n",
            "63/63 [==============================] - 0s 3ms/step - loss: 11.2576 - val_loss: 15.6193\n",
            "Epoch 41/50\n",
            "63/63 [==============================] - 0s 4ms/step - loss: 11.1806 - val_loss: 15.3240\n",
            "Epoch 42/50\n",
            "63/63 [==============================] - 0s 3ms/step - loss: 11.2547 - val_loss: 15.0920\n",
            "Epoch 43/50\n",
            "63/63 [==============================] - 0s 3ms/step - loss: 11.3748 - val_loss: 14.7877\n",
            "Epoch 44/50\n",
            "63/63 [==============================] - 0s 3ms/step - loss: 11.1752 - val_loss: 15.0842\n",
            "Epoch 45/50\n",
            "63/63 [==============================] - 0s 4ms/step - loss: 11.0633 - val_loss: 15.3823\n",
            "Epoch 46/50\n",
            "63/63 [==============================] - 0s 4ms/step - loss: 11.2019 - val_loss: 15.6007\n",
            "Epoch 47/50\n",
            "63/63 [==============================] - 0s 3ms/step - loss: 11.0189 - val_loss: 15.5252\n",
            "Epoch 48/50\n",
            "63/63 [==============================] - 0s 3ms/step - loss: 10.9252 - val_loss: 14.9027\n",
            "Epoch 49/50\n",
            "63/63 [==============================] - 0s 3ms/step - loss: 10.9892 - val_loss: 14.8116\n",
            "Epoch 50/50\n",
            "63/63 [==============================] - 0s 3ms/step - loss: 10.8184 - val_loss: 14.5043\n"
          ]
        }
      ],
      "source": [
        "history= model.fit(X_train,y_train, epochs=50,validation_split=0.2)"
      ]
    },
    {
      "cell_type": "code",
      "execution_count": null,
      "metadata": {
        "id": "h8K0HA6bl3-a",
        "outputId": "f0576e98-7fcf-4174-8942-440f92e2a811",
        "colab": {
          "base_uri": "https://localhost:8080/",
          "height": 283
        }
      },
      "outputs": [
        {
          "output_type": "display_data",
          "data": {
            "text/plain": [
              "<Figure size 432x288 with 1 Axes>"
            ],
            "image/png": "[encoded data removed]"
          },
          "metadata": {
            "needs_background": "light"
          }
        }
      ],
      "source": [
        "plt.plot(history.history['loss'], label='loss')\n",
        "plt.plot(history.history['val_loss'], label='val_loss')\n",
        "plt.ylim([0, 20])\n",
        "plt.xlabel('Epoch')\n",
        "plt.ylabel('Loss Trend')\n",
        "plt.legend()\n",
        "plt.grid(True)"
      ]
    },
    {
      "cell_type": "code",
      "execution_count": null,
      "metadata": {
        "id": "xVrIOeCUl3-a"
      },
      "outputs": [],
      "source": [
        "# %%time\n",
        "# history = model.fit(\n",
        "#     X_train, y_train,\n",
        "#     validation_split=0.2,\n",
        "#     verbose=0, epochs=100)"
      ]
    },
    {
      "cell_type": "code",
      "execution_count": null,
      "metadata": {
        "id": "IDz2x3Tul3-a"
      },
      "outputs": [],
      "source": [
        "# plot_loss(history)"
      ]
    },
    {
      "cell_type": "code",
      "execution_count": null,
      "metadata": {
        "id": "HC-9xFZJl3-a",
        "outputId": "fe5a30c2-178d-40db-d714-afb958068767",
        "colab": {
          "base_uri": "https://localhost:8080/"
        }
      },
      "outputs": [
        {
          "output_type": "execute_result",
          "data": {
            "text/plain": [
              "array([24.10905766, 32.87780619, 43.39942952, ...,  1.44008073,\n",
              "       43.53836522, 69.79590237])"
            ]
          },
          "metadata": {},
          "execution_count": 83
        }
      ],
      "source": [
        "predicted_yield4 = model.predict(X_test)\n",
        "y_test"
      ]
    },
    {
      "cell_type": "code",
      "execution_count": null,
      "metadata": {
        "id": "yzkt2l61l3-a",
        "outputId": "87b07533-7728-4f83-f681-6b63acfbfcb0",
        "colab": {
          "base_uri": "https://localhost:8080/"
        }
      },
      "outputs": [
        {
          "output_type": "execute_result",
          "data": {
            "text/plain": [
              "array([[35.145668],\n",
              "       [62.91454 ],\n",
              "       [70.233665],\n",
              "       ...,\n",
              "       [24.578426],\n",
              "       [42.455635],\n",
              "       [68.12535 ]], dtype=float32)"
            ]
          },
          "metadata": {},
          "execution_count": 84
        }
      ],
      "source": [
        "predicted_yield4"
      ]
    },
    {
      "cell_type": "code",
      "execution_count": null,
      "metadata": {
        "id": "gEc3_ePyl3-a"
      },
      "outputs": [],
      "source": [
        "# predicted_yield4\n",
        "# for i,j in enumerate (predicted_yield4):\n",
        "#     print(f'Predicted yield= {j} and Actual yield ={y_test[i]}' )\n",
        "    "
      ]
    },
    {
      "cell_type": "code",
      "execution_count": null,
      "metadata": {
        "id": "cwHT7xaKl3-a",
        "outputId": "04f4c3a8-713e-4455-c171-63ec3e96c0d7",
        "colab": {
          "base_uri": "https://localhost:8080/"
        }
      },
      "outputs": [
        {
          "output_type": "stream",
          "name": "stdout",
          "text": [
            "R^2: 0.37398545668935124\n"
          ]
        }
      ],
      "source": [
        "# R^2 (coefficient of determination) regression score function: \n",
        "R_4 = r2_score(y_test, predicted_yield4)\n",
        "print('R^2:', R_4)"
      ]
    },
    {
      "cell_type": "code",
      "execution_count": null,
      "metadata": {
        "id": "CcXzgQhll3-b",
        "outputId": "16bfc534-cacc-4795-b330-8cc764b7f00b",
        "colab": {
          "base_uri": "https://localhost:8080/",
          "height": 368
        }
      },
      "outputs": [
        {
          "output_type": "execute_result",
          "data": {
            "text/plain": [
              "<matplotlib.legend.Legend at 0x7f76067ddc10>"
            ]
          },
          "metadata": {},
          "execution_count": 87
        },
        {
          "output_type": "display_data",
          "data": {
            "text/plain": [
              "<Figure size 360x360 with 1 Axes>"
            ],
            "image/png": "[encoded data removed]"
          },
          "metadata": {
            "needs_background": "light"
          }
        }
      ],
      "source": [
        "fig = plt.figure(figsize=(5,5))\n",
        "sn.regplot(x=predicted_yield4, y=y_test,line_kws={\"lw\":2,'ls':'--','color':'black',\"alpha\":0.2})\n",
        "plt.xlabel('Predicted Yield', color='blue')\n",
        "plt.ylabel('Observed Yield', color ='blue')\n",
        "plt.title(\"Tensorflow \", color='red')\n",
        "plt.grid(alpha=0.2)\n",
        "R_4 = mpatches.Patch(label=\"R2={:04.2f}\".format(R_4))\n",
        "# rmse2 = mpatches.Patch(label=\"RMSE={:04.2f}\".format(rmse2))\n",
        "plt.legend(handles=[R_4])"
      ]
    },
    {
      "cell_type": "code",
      "execution_count": null,
      "metadata": {
        "id": "jVUDx0VIl3-b"
      },
      "outputs": [],
      "source": [
        ""
      ]
    }
  ],
  "metadata": {
    "kernelspec": {
      "display_name": "Python 3",
      "language": "python",
      "name": "python3"
    },
    "language_info": {
      "codemirror_mode": {
        "name": "ipython",
        "version": 3
      },
      "file_extension": ".py",
      "mimetype": "text/x-python",
      "name": "python",
      "nbconvert_exporter": "python",
      "pygments_lexer": "ipython3",
      "version": "3.8.5"
    },
    "colab": {
      "name": "10_Descriptors_for_ Buchwald_Yield_Prediction Using plate 1 and 2 as training sets.ipynb",
      "provenance": [],
      "include_colab_link": true
    }
  },
  "nbformat": 4,
  "nbformat_minor": 0
}