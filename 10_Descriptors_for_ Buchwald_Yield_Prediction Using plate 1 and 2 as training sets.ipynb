{
  "cells": [
    {
      "cell_type": "markdown",
      "metadata": {
        "id": "view-in-github",
        "colab_type": "text"
      },
      "source": [
        "<a href=\"https://colab.research.google.com/github/gashawmg/Buchwald-9-vs-120-features/blob/master/10_Descriptors_for_%20Buchwald_Yield_Prediction%20Using%20plate%201%20and%202%20as%20training%20sets.ipynb\" target=\"_parent\"><img src=\"https://colab.research.google.com/assets/colab-badge.svg\" alt=\"Open In Colab\"/></a>"
      ]
    },
    {
      "cell_type": "markdown",
      "metadata": {
        "id": "fO_UnTjll3-O"
      },
      "source": [
        "The top 20 conditions of XGBoost obtained using 120 descriptors \n",
        "Predicting reaction performance in C–N cross-coupling using machine learning\n",
        "Experimental data obtained from Ahneman et al publication in Science DOI: 10.1126/science.aar5169\n",
        "                    "
      ]
    },
    {
      "cell_type": "markdown",
      "metadata": {
        "id": "wmkz6eQcl3-R"
      },
      "source": [
        "                                                 Gashaw M. Goshu, September 26, 2020"
      ]
    },
    {
      "cell_type": "code",
      "execution_count": 42,
      "metadata": {
        "id": "KUrfjsSQl3-R"
      },
      "outputs": [],
      "source": [
        "# Import relevant libraries\n",
        "import numpy as np\n",
        "from matplotlib import pyplot as plt\n",
        "import matplotlib.patches as mpatches\n",
        "import pandas as pd\n",
        "import seaborn as sn\n",
        "from sklearn.model_selection import cross_validate,train_test_split\n",
        "from sklearn.ensemble import RandomForestRegressor\n",
        "from sklearn.neural_network import MLPRegressor\n",
        "from sklearn.svm import LinearSVR\n",
        "from sklearn.impute import SimpleImputer\n",
        "from sklearn.metrics import r2_score,mean_absolute_error, mean_squared_error\n",
        "from sklearn.preprocessing import StandardScaler\n",
        "import tensorflow as tf\n",
        "from tensorflow import keras\n",
        "from tensorflow.keras import layers\n",
        "#import utils\n",
        "%matplotlib inline"
      ]
    },
    {
      "cell_type": "code",
      "execution_count": 43,
      "metadata": {
        "id": "HsAC4fszl3-S"
      },
      "outputs": [],
      "source": [
        "# open a file containing descriptors and yield\n",
        "data = pd.read_csv(\"Descriptor_and_yield_table.csv\")\n"
      ]
    },
    {
      "cell_type": "code",
      "execution_count": 44,
      "metadata": {
        "id": "QUHuMPpOl3-T",
        "outputId": "880aea89-c014-4e53-fdc3-56cd9b093128",
        "colab": {
          "base_uri": "https://localhost:8080/",
          "height": 505
        }
      },
      "outputs": [
        {
          "output_type": "execute_result",
          "data": {
            "text/plain": [
              "      Unnamed: 0  additive_*C3_NMR_shift  additive_*C3_electrostatic_charge  \\\n",
              "0              1                  143.12                              0.223   \n",
              "1              2                  143.12                              0.223   \n",
              "2              3                  143.12                              0.223   \n",
              "3              4                  143.12                              0.223   \n",
              "4              5                  143.12                              0.223   \n",
              "...          ...                     ...                                ...   \n",
              "3955        3956                  152.98                              0.429   \n",
              "3956        3957                  152.98                              0.429   \n",
              "3957        3958                  152.98                              0.429   \n",
              "3958        3959                  152.98                              0.429   \n",
              "3959        3960                  152.98                              0.429   \n",
              "\n",
              "      additive_*C4_NMR_shift  additive_*C4_electrostatic_charge  \\\n",
              "0                      93.06                             -0.447   \n",
              "1                      93.06                             -0.447   \n",
              "2                      93.06                             -0.447   \n",
              "3                      93.06                             -0.447   \n",
              "4                      93.06                             -0.447   \n",
              "...                      ...                                ...   \n",
              "3955                   98.09                             -0.589   \n",
              "3956                   98.09                             -0.589   \n",
              "3957                   98.09                             -0.589   \n",
              "3958                   98.09                             -0.589   \n",
              "3959                   98.09                             -0.589   \n",
              "\n",
              "      additive_*C5_NMR_shift  additive_*C5_electrostatic_charge  \\\n",
              "0                     162.34                              0.292   \n",
              "1                     162.34                              0.292   \n",
              "2                     162.34                              0.292   \n",
              "3                     162.34                              0.292   \n",
              "4                     162.34                              0.292   \n",
              "...                      ...                                ...   \n",
              "3955                  159.31                              0.387   \n",
              "3956                  159.31                              0.387   \n",
              "3957                  159.31                              0.387   \n",
              "3958                  159.31                              0.387   \n",
              "3959                  159.31                              0.387   \n",
              "\n",
              "      additive_*N1_electrostatic_charge  additive_*O1_electrostatic_charge  \\\n",
              "0                                -0.334                             -0.057   \n",
              "1                                -0.334                             -0.057   \n",
              "2                                -0.334                             -0.057   \n",
              "3                                -0.334                             -0.057   \n",
              "4                                -0.334                             -0.057   \n",
              "...                                 ...                                ...   \n",
              "3955                             -0.350                             -0.068   \n",
              "3956                             -0.350                             -0.068   \n",
              "3957                             -0.350                             -0.068   \n",
              "3958                             -0.350                             -0.068   \n",
              "3959                             -0.350                             -0.068   \n",
              "\n",
              "      additive_E_HOMO  ...  ligand_V6_frequency  ligand_V6_intensity  \\\n",
              "0             -0.2317  ...             1640.307                4.414   \n",
              "1             -0.2317  ...             1640.307                4.414   \n",
              "2             -0.2317  ...             1640.307                4.414   \n",
              "3             -0.2317  ...             1640.307                4.414   \n",
              "4             -0.2317  ...             1640.307                4.414   \n",
              "...               ...  ...                  ...                  ...   \n",
              "3955          -0.2337  ...             1631.618               37.445   \n",
              "3956          -0.2337  ...             1631.618               37.445   \n",
              "3957          -0.2337  ...             1631.618               37.445   \n",
              "3958          -0.2337  ...             1631.618               37.445   \n",
              "3959          -0.2337  ...             1631.618               37.445   \n",
              "\n",
              "      ligand_V7_frequency  ligand_V7_intensity  ligand_V8_frequency  \\\n",
              "0                3026.561               16.577             3043.097   \n",
              "1                3026.561               16.577             3043.097   \n",
              "2                3026.561               16.577             3043.097   \n",
              "3                3026.561               16.577             3043.097   \n",
              "4                3026.561               16.577             3043.097   \n",
              "...                   ...                  ...                  ...   \n",
              "3955             3025.675               16.220             1054.500   \n",
              "3956             3025.675               16.220             1054.500   \n",
              "3957             3025.675               16.220             1054.500   \n",
              "3958             3025.675               16.220             1054.500   \n",
              "3959             3025.675               16.220             1054.500   \n",
              "\n",
              "      ligand_V8_intensity  ligand_V9_frequency  ligand_V9_intensity  \\\n",
              "0                  18.145             3064.344               38.210   \n",
              "1                  18.145             3064.344               38.210   \n",
              "2                  18.145             3064.344               38.210   \n",
              "3                  18.145             3064.344               38.210   \n",
              "4                  18.145             3064.344               38.210   \n",
              "...                   ...                  ...                  ...   \n",
              "3955                1.432             3041.406               35.621   \n",
              "3956                1.432             3041.406               35.621   \n",
              "3957                1.432             3041.406               35.621   \n",
              "3958                1.432             3041.406               35.621   \n",
              "3959                1.432             3041.406               35.621   \n",
              "\n",
              "      ligand_dipole_moment      yield  \n",
              "0                 1.212924  10.657812  \n",
              "1                 1.212924  14.747896  \n",
              "2                 1.212924  18.278686  \n",
              "3                 1.212924   2.475058  \n",
              "4                 1.212924   6.119058  \n",
              "...                    ...        ...  \n",
              "3955              3.735286  57.426670  \n",
              "3956              3.735286  86.233157  \n",
              "3957              3.735286   1.440081  \n",
              "3958              3.735286  43.538365  \n",
              "3959              3.735286  69.795902  \n",
              "\n",
              "[3960 rows x 122 columns]"
            ],
            "text/html": [
              "\n",
              "  <div id=\"df-d9b59395-713b-476d-843f-0d8a76cd9ad2\">\n",
              "    <div class=\"colab-df-container\">\n",
              "      <div>\n",
              "<style scoped>\n",
              "    .dataframe tbody tr th:only-of-type {\n",
              "        vertical-align: middle;\n",
              "    }\n",
              "\n",
              "    .dataframe tbody tr th {\n",
              "        vertical-align: top;\n",
              "    }\n",
              "\n",
              "    .dataframe thead th {\n",
              "        text-align: right;\n",
              "    }\n",
              "</style>\n",
              "<table border=\"1\" class=\"dataframe\">\n",
              "  <thead>\n",
              "    <tr style=\"text-align: right;\">\n",
              "      <th></th>\n",
              "      <th>Unnamed: 0</th>\n",
              "      <th>additive_*C3_NMR_shift</th>\n",
              "      <th>additive_*C3_electrostatic_charge</th>\n",
              "      <th>additive_*C4_NMR_shift</th>\n",
              "      <th>additive_*C4_electrostatic_charge</th>\n",
              "      <th>additive_*C5_NMR_shift</th>\n",
              "      <th>additive_*C5_electrostatic_charge</th>\n",
              "      <th>additive_*N1_electrostatic_charge</th>\n",
              "      <th>additive_*O1_electrostatic_charge</th>\n",
              "      <th>additive_E_HOMO</th>\n",
              "      <th>...</th>\n",
              "      <th>ligand_V6_frequency</th>\n",
              "      <th>ligand_V6_intensity</th>\n",
              "      <th>ligand_V7_frequency</th>\n",
              "      <th>ligand_V7_intensity</th>\n",
              "      <th>ligand_V8_frequency</th>\n",
              "      <th>ligand_V8_intensity</th>\n",
              "      <th>ligand_V9_frequency</th>\n",
              "      <th>ligand_V9_intensity</th>\n",
              "      <th>ligand_dipole_moment</th>\n",
              "      <th>yield</th>\n",
              "    </tr>\n",
              "  </thead>\n",
              "  <tbody>\n",
              "    <tr>\n",
              "      <th>0</th>\n",
              "      <td>1</td>\n",
              "      <td>143.12</td>\n",
              "      <td>0.223</td>\n",
              "      <td>93.06</td>\n",
              "      <td>-0.447</td>\n",
              "      <td>162.34</td>\n",
              "      <td>0.292</td>\n",
              "      <td>-0.334</td>\n",
              "      <td>-0.057</td>\n",
              "      <td>-0.2317</td>\n",
              "      <td>...</td>\n",
              "      <td>1640.307</td>\n",
              "      <td>4.414</td>\n",
              "      <td>3026.561</td>\n",
              "      <td>16.577</td>\n",
              "      <td>3043.097</td>\n",
              "      <td>18.145</td>\n",
              "      <td>3064.344</td>\n",
              "      <td>38.210</td>\n",
              "      <td>1.212924</td>\n",
              "      <td>10.657812</td>\n",
              "    </tr>\n",
              "    <tr>\n",
              "      <th>1</th>\n",
              "      <td>2</td>\n",
              "      <td>143.12</td>\n",
              "      <td>0.223</td>\n",
              "      <td>93.06</td>\n",
              "      <td>-0.447</td>\n",
              "      <td>162.34</td>\n",
              "      <td>0.292</td>\n",
              "      <td>-0.334</td>\n",
              "      <td>-0.057</td>\n",
              "      <td>-0.2317</td>\n",
              "      <td>...</td>\n",
              "      <td>1640.307</td>\n",
              "      <td>4.414</td>\n",
              "      <td>3026.561</td>\n",
              "      <td>16.577</td>\n",
              "      <td>3043.097</td>\n",
              "      <td>18.145</td>\n",
              "      <td>3064.344</td>\n",
              "      <td>38.210</td>\n",
              "      <td>1.212924</td>\n",
              "      <td>14.747896</td>\n",
              "    </tr>\n",
              "    <tr>\n",
              "      <th>2</th>\n",
              "      <td>3</td>\n",
              "      <td>143.12</td>\n",
              "      <td>0.223</td>\n",
              "      <td>93.06</td>\n",
              "      <td>-0.447</td>\n",
              "      <td>162.34</td>\n",
              "      <td>0.292</td>\n",
              "      <td>-0.334</td>\n",
              "      <td>-0.057</td>\n",
              "      <td>-0.2317</td>\n",
              "      <td>...</td>\n",
              "      <td>1640.307</td>\n",
              "      <td>4.414</td>\n",
              "      <td>3026.561</td>\n",
              "      <td>16.577</td>\n",
              "      <td>3043.097</td>\n",
              "      <td>18.145</td>\n",
              "      <td>3064.344</td>\n",
              "      <td>38.210</td>\n",
              "      <td>1.212924</td>\n",
              "      <td>18.278686</td>\n",
              "    </tr>\n",
              "    <tr>\n",
              "      <th>3</th>\n",
              "      <td>4</td>\n",
              "      <td>143.12</td>\n",
              "      <td>0.223</td>\n",
              "      <td>93.06</td>\n",
              "      <td>-0.447</td>\n",
              "      <td>162.34</td>\n",
              "      <td>0.292</td>\n",
              "      <td>-0.334</td>\n",
              "      <td>-0.057</td>\n",
              "      <td>-0.2317</td>\n",
              "      <td>...</td>\n",
              "      <td>1640.307</td>\n",
              "      <td>4.414</td>\n",
              "      <td>3026.561</td>\n",
              "      <td>16.577</td>\n",
              "      <td>3043.097</td>\n",
              "      <td>18.145</td>\n",
              "      <td>3064.344</td>\n",
              "      <td>38.210</td>\n",
              "      <td>1.212924</td>\n",
              "      <td>2.475058</td>\n",
              "    </tr>\n",
              "    <tr>\n",
              "      <th>4</th>\n",
              "      <td>5</td>\n",
              "      <td>143.12</td>\n",
              "      <td>0.223</td>\n",
              "      <td>93.06</td>\n",
              "      <td>-0.447</td>\n",
              "      <td>162.34</td>\n",
              "      <td>0.292</td>\n",
              "      <td>-0.334</td>\n",
              "      <td>-0.057</td>\n",
              "      <td>-0.2317</td>\n",
              "      <td>...</td>\n",
              "      <td>1640.307</td>\n",
              "      <td>4.414</td>\n",
              "      <td>3026.561</td>\n",
              "      <td>16.577</td>\n",
              "      <td>3043.097</td>\n",
              "      <td>18.145</td>\n",
              "      <td>3064.344</td>\n",
              "      <td>38.210</td>\n",
              "      <td>1.212924</td>\n",
              "      <td>6.119058</td>\n",
              "    </tr>\n",
              "    <tr>\n",
              "      <th>...</th>\n",
              "      <td>...</td>\n",
              "      <td>...</td>\n",
              "      <td>...</td>\n",
              "      <td>...</td>\n",
              "      <td>...</td>\n",
              "      <td>...</td>\n",
              "      <td>...</td>\n",
              "      <td>...</td>\n",
              "      <td>...</td>\n",
              "      <td>...</td>\n",
              "      <td>...</td>\n",
              "      <td>...</td>\n",
              "      <td>...</td>\n",
              "      <td>...</td>\n",
              "      <td>...</td>\n",
              "      <td>...</td>\n",
              "      <td>...</td>\n",
              "      <td>...</td>\n",
              "      <td>...</td>\n",
              "      <td>...</td>\n",
              "      <td>...</td>\n",
              "    </tr>\n",
              "    <tr>\n",
              "      <th>3955</th>\n",
              "      <td>3956</td>\n",
              "      <td>152.98</td>\n",
              "      <td>0.429</td>\n",
              "      <td>98.09</td>\n",
              "      <td>-0.589</td>\n",
              "      <td>159.31</td>\n",
              "      <td>0.387</td>\n",
              "      <td>-0.350</td>\n",
              "      <td>-0.068</td>\n",
              "      <td>-0.2337</td>\n",
              "      <td>...</td>\n",
              "      <td>1631.618</td>\n",
              "      <td>37.445</td>\n",
              "      <td>3025.675</td>\n",
              "      <td>16.220</td>\n",
              "      <td>1054.500</td>\n",
              "      <td>1.432</td>\n",
              "      <td>3041.406</td>\n",
              "      <td>35.621</td>\n",
              "      <td>3.735286</td>\n",
              "      <td>57.426670</td>\n",
              "    </tr>\n",
              "    <tr>\n",
              "      <th>3956</th>\n",
              "      <td>3957</td>\n",
              "      <td>152.98</td>\n",
              "      <td>0.429</td>\n",
              "      <td>98.09</td>\n",
              "      <td>-0.589</td>\n",
              "      <td>159.31</td>\n",
              "      <td>0.387</td>\n",
              "      <td>-0.350</td>\n",
              "      <td>-0.068</td>\n",
              "      <td>-0.2337</td>\n",
              "      <td>...</td>\n",
              "      <td>1631.618</td>\n",
              "      <td>37.445</td>\n",
              "      <td>3025.675</td>\n",
              "      <td>16.220</td>\n",
              "      <td>1054.500</td>\n",
              "      <td>1.432</td>\n",
              "      <td>3041.406</td>\n",
              "      <td>35.621</td>\n",
              "      <td>3.735286</td>\n",
              "      <td>86.233157</td>\n",
              "    </tr>\n",
              "    <tr>\n",
              "      <th>3957</th>\n",
              "      <td>3958</td>\n",
              "      <td>152.98</td>\n",
              "      <td>0.429</td>\n",
              "      <td>98.09</td>\n",
              "      <td>-0.589</td>\n",
              "      <td>159.31</td>\n",
              "      <td>0.387</td>\n",
              "      <td>-0.350</td>\n",
              "      <td>-0.068</td>\n",
              "      <td>-0.2337</td>\n",
              "      <td>...</td>\n",
              "      <td>1631.618</td>\n",
              "      <td>37.445</td>\n",
              "      <td>3025.675</td>\n",
              "      <td>16.220</td>\n",
              "      <td>1054.500</td>\n",
              "      <td>1.432</td>\n",
              "      <td>3041.406</td>\n",
              "      <td>35.621</td>\n",
              "      <td>3.735286</td>\n",
              "      <td>1.440081</td>\n",
              "    </tr>\n",
              "    <tr>\n",
              "      <th>3958</th>\n",
              "      <td>3959</td>\n",
              "      <td>152.98</td>\n",
              "      <td>0.429</td>\n",
              "      <td>98.09</td>\n",
              "      <td>-0.589</td>\n",
              "      <td>159.31</td>\n",
              "      <td>0.387</td>\n",
              "      <td>-0.350</td>\n",
              "      <td>-0.068</td>\n",
              "      <td>-0.2337</td>\n",
              "      <td>...</td>\n",
              "      <td>1631.618</td>\n",
              "      <td>37.445</td>\n",
              "      <td>3025.675</td>\n",
              "      <td>16.220</td>\n",
              "      <td>1054.500</td>\n",
              "      <td>1.432</td>\n",
              "      <td>3041.406</td>\n",
              "      <td>35.621</td>\n",
              "      <td>3.735286</td>\n",
              "      <td>43.538365</td>\n",
              "    </tr>\n",
              "    <tr>\n",
              "      <th>3959</th>\n",
              "      <td>3960</td>\n",
              "      <td>152.98</td>\n",
              "      <td>0.429</td>\n",
              "      <td>98.09</td>\n",
              "      <td>-0.589</td>\n",
              "      <td>159.31</td>\n",
              "      <td>0.387</td>\n",
              "      <td>-0.350</td>\n",
              "      <td>-0.068</td>\n",
              "      <td>-0.2337</td>\n",
              "      <td>...</td>\n",
              "      <td>1631.618</td>\n",
              "      <td>37.445</td>\n",
              "      <td>3025.675</td>\n",
              "      <td>16.220</td>\n",
              "      <td>1054.500</td>\n",
              "      <td>1.432</td>\n",
              "      <td>3041.406</td>\n",
              "      <td>35.621</td>\n",
              "      <td>3.735286</td>\n",
              "      <td>69.795902</td>\n",
              "    </tr>\n",
              "  </tbody>\n",
              "</table>\n",
              "<p>3960 rows × 122 columns</p>\n",
              "</div>\n",
              "      <button class=\"colab-df-convert\" onclick=\"convertToInteractive('df-d9b59395-713b-476d-843f-0d8a76cd9ad2')\"\n",
              "              title=\"Convert this dataframe to an interactive table.\"\n",
              "              style=\"display:none;\">\n",
              "        \n",
              "  <svg xmlns=\"http://www.w3.org/2000/svg\" height=\"24px\"viewBox=\"0 0 24 24\"\n",
              "       width=\"24px\">\n",
              "    <path d=\"M0 0h24v24H0V0z\" fill=\"none\"/>\n",
              "    <path d=\"M18.56 5.44l.94 2.06.94-2.06 2.06-.94-2.06-.94-.94-2.06-.94 2.06-2.06.94zm-11 1L8.5 8.5l.94-2.06 2.06-.94-2.06-.94L8.5 2.5l-.94 2.06-2.06.94zm10 10l.94 2.06.94-2.06 2.06-.94-2.06-.94-.94-2.06-.94 2.06-2.06.94z\"/><path d=\"M17.41 7.96l-1.37-1.37c-.4-.4-.92-.59-1.43-.59-.52 0-1.04.2-1.43.59L10.3 9.45l-7.72 7.72c-.78.78-.78 2.05 0 2.83L4 21.41c.39.39.9.59 1.41.59.51 0 1.02-.2 1.41-.59l7.78-7.78 2.81-2.81c.8-.78.8-2.07 0-2.86zM5.41 20L4 18.59l7.72-7.72 1.47 1.35L5.41 20z\"/>\n",
              "  </svg>\n",
              "      </button>\n",
              "      \n",
              "  <style>\n",
              "    .colab-df-container {\n",
              "      display:flex;\n",
              "      flex-wrap:wrap;\n",
              "      gap: 12px;\n",
              "    }\n",
              "\n",
              "    .colab-df-convert {\n",
              "      background-color: #E8F0FE;\n",
              "      border: none;\n",
              "      border-radius: 50%;\n",
              "      cursor: pointer;\n",
              "      display: none;\n",
              "      fill: #1967D2;\n",
              "      height: 32px;\n",
              "      padding: 0 0 0 0;\n",
              "      width: 32px;\n",
              "    }\n",
              "\n",
              "    .colab-df-convert:hover {\n",
              "      background-color: #E2EBFA;\n",
              "      box-shadow: 0px 1px 2px rgba(60, 64, 67, 0.3), 0px 1px 3px 1px rgba(60, 64, 67, 0.15);\n",
              "      fill: #174EA6;\n",
              "    }\n",
              "\n",
              "    [theme=dark] .colab-df-convert {\n",
              "      background-color: #3B4455;\n",
              "      fill: #D2E3FC;\n",
              "    }\n",
              "\n",
              "    [theme=dark] .colab-df-convert:hover {\n",
              "      background-color: #434B5C;\n",
              "      box-shadow: 0px 1px 3px 1px rgba(0, 0, 0, 0.15);\n",
              "      filter: drop-shadow(0px 1px 2px rgba(0, 0, 0, 0.3));\n",
              "      fill: #FFFFFF;\n",
              "    }\n",
              "  </style>\n",
              "\n",
              "      <script>\n",
              "        const buttonEl =\n",
              "          document.querySelector('#df-d9b59395-713b-476d-843f-0d8a76cd9ad2 button.colab-df-convert');\n",
              "        buttonEl.style.display =\n",
              "          google.colab.kernel.accessAllowed ? 'block' : 'none';\n",
              "\n",
              "        async function convertToInteractive(key) {\n",
              "          const element = document.querySelector('#df-d9b59395-713b-476d-843f-0d8a76cd9ad2');\n",
              "          const dataTable =\n",
              "            await google.colab.kernel.invokeFunction('convertToInteractive',\n",
              "                                                     [key], {});\n",
              "          if (!dataTable) return;\n",
              "\n",
              "          const docLinkHtml = 'Like what you see? Visit the ' +\n",
              "            '<a target=\"_blank\" href=https://colab.research.google.com/notebooks/data_table.ipynb>data table notebook</a>'\n",
              "            + ' to learn more about interactive tables.';\n",
              "          element.innerHTML = '';\n",
              "          dataTable['output_type'] = 'display_data';\n",
              "          await google.colab.output.renderOutput(dataTable, element);\n",
              "          const docLink = document.createElement('div');\n",
              "          docLink.innerHTML = docLinkHtml;\n",
              "          element.appendChild(docLink);\n",
              "        }\n",
              "      </script>\n",
              "    </div>\n",
              "  </div>\n",
              "  "
            ]
          },
          "metadata": {},
          "execution_count": 44
        }
      ],
      "source": [
        "data"
      ]
    },
    {
      "cell_type": "code",
      "execution_count": 45,
      "metadata": {
        "id": "qPJ4Fuh6l3-T"
      },
      "outputs": [],
      "source": [
        "features =[\"additive_*C3_NMR_shift\",\n",
        "            \"aryl_halide_*C3_NMR_shift\",\"aryl_halide_*H2_electrostatic_charge\",\n",
        "            \"base_*N1_electrostatic_charge\",\"ligand_*C11_NMR_shift\",\n",
        "            \"additive_*C4_electrostatic_charge\",\"base_E_HOMO\",\"aryl_halide_V2_frequency\",\n",
        "            \"aryl_halide_E_LUMO\",\"additive_E_LUMO\"\n",
        "            ]\n",
        "X_data = data[features] # the 10 descriptors gave better prediction than the published paper.\n",
        "y_data = data['yield'] # Yield of the 3560 rows is stored in the y_data variable"
      ]
    },
    {
      "cell_type": "code",
      "execution_count": 46,
      "metadata": {
        "id": "y0Q1mUZ1l3-U",
        "outputId": "eef6ce52-6ee5-4e4a-e8d2-2bbad9e860a8",
        "colab": {
          "base_uri": "https://localhost:8080/"
        }
      },
      "outputs": [
        {
          "output_type": "execute_result",
          "data": {
            "text/plain": [
              "Unnamed: 0                           0\n",
              "additive_*C3_NMR_shift               0\n",
              "additive_*C3_electrostatic_charge    0\n",
              "additive_*C4_NMR_shift               0\n",
              "additive_*C4_electrostatic_charge    0\n",
              "                                    ..\n",
              "ligand_V8_intensity                  0\n",
              "ligand_V9_frequency                  0\n",
              "ligand_V9_intensity                  0\n",
              "ligand_dipole_moment                 0\n",
              "yield                                0\n",
              "Length: 122, dtype: int64"
            ]
          },
          "metadata": {},
          "execution_count": 46
        }
      ],
      "source": [
        "data.isna().sum()"
      ]
    },
    {
      "cell_type": "code",
      "execution_count": 47,
      "metadata": {
        "id": "rgphyYcYl3-U",
        "outputId": "f6426f2d-759e-482d-95c0-bbd79f45210a",
        "colab": {
          "base_uri": "https://localhost:8080/"
        }
      },
      "outputs": [
        {
          "output_type": "stream",
          "name": "stdout",
          "text": [
            "<class 'pandas.core.frame.DataFrame'>\n",
            "RangeIndex: 3960 entries, 0 to 3959\n",
            "Data columns (total 10 columns):\n",
            " #   Column                                Non-Null Count  Dtype  \n",
            "---  ------                                --------------  -----  \n",
            " 0   additive_*C3_NMR_shift                3960 non-null   float64\n",
            " 1   aryl_halide_*C3_NMR_shift             3960 non-null   float64\n",
            " 2   aryl_halide_*H2_electrostatic_charge  3960 non-null   float64\n",
            " 3   base_*N1_electrostatic_charge         3960 non-null   float64\n",
            " 4   ligand_*C11_NMR_shift                 3960 non-null   float64\n",
            " 5   additive_*C4_electrostatic_charge     3960 non-null   float64\n",
            " 6   base_E_HOMO                           3960 non-null   float64\n",
            " 7   aryl_halide_V2_frequency              3960 non-null   float64\n",
            " 8   aryl_halide_E_LUMO                    3960 non-null   float64\n",
            " 9   additive_E_LUMO                       3960 non-null   float64\n",
            "dtypes: float64(10)\n",
            "memory usage: 309.5 KB\n"
          ]
        }
      ],
      "source": [
        "X_data.info()"
      ]
    },
    {
      "cell_type": "code",
      "execution_count": 48,
      "metadata": {
        "id": "_mqXIdPWl3-V",
        "outputId": "096fad42-94de-4827-8b50-77550a395ae6",
        "colab": {
          "base_uri": "https://localhost:8080/",
          "height": 679
        }
      },
      "outputs": [
        {
          "output_type": "execute_result",
          "data": {
            "text/plain": [
              "<matplotlib.axes._subplots.AxesSubplot at 0x7f29d180a650>"
            ]
          },
          "metadata": {},
          "execution_count": 48
        },
        {
          "output_type": "display_data",
          "data": {
            "text/plain": [
              "<Figure size 1080x576 with 2 Axes>"
            ],
            "image/png": "[encoded data removed]"
          },
          "metadata": {
            "needs_background": "light"
          }
        }
      ],
      "source": [
        "# Set the width and height of the figure\n",
        "plt.figure(figsize=(15,8))\n",
        "# Generate heatmap for the 10 columns or descriptors\n",
        "sn.heatmap(data=X_data,yticklabels=360)"
      ]
    },
    {
      "cell_type": "code",
      "execution_count": 49,
      "metadata": {
        "id": "iqRfeeRUl3-V"
      },
      "outputs": [],
      "source": [
        "# predicting the effects of additives on yield in plate 3 using plate 1 and plate 2 as training sets  \n",
        "# Predict plate 3 (index: 2520:3960))  using plate 1 and plate 2 ( index 0:2520)\n",
        "X_train, X_test, y_train, y_test = X_data[:2520], X_data[2520:], y_data[:2520], y_data[2520:]\n",
        "rf = RandomForestRegressor(n_estimators=100, random_state=42)"
      ]
    },
    {
      "cell_type": "code",
      "execution_count": 50,
      "metadata": {
        "id": "6rOI6wcsl3-V"
      },
      "outputs": [],
      "source": [
        "# Data preprocessing or normalization\n",
        "# scale train set\n",
        "scaler = StandardScaler()\n",
        "X_train = scaler.fit_transform(X_train)\n",
        "# scale test set\n",
        "X_test = scaler.transform(X_test)"
      ]
    },
    {
      "cell_type": "code",
      "execution_count": 51,
      "metadata": {
        "id": "O6R8RFQDl3-W",
        "outputId": "2a79f681-92b0-4ed4-ef06-a8ba4c5d5138",
        "colab": {
          "base_uri": "https://localhost:8080/",
          "height": 504
        }
      },
      "outputs": [
        {
          "output_type": "execute_result",
          "data": {
            "text/plain": [
              "<matplotlib.axes._subplots.AxesSubplot at 0x7f29d2fc9e50>"
            ]
          },
          "metadata": {},
          "execution_count": 51
        },
        {
          "output_type": "display_data",
          "data": {
            "text/plain": [
              "<Figure size 1080x576 with 2 Axes>"
            ],
            "image/png": "[encoded data removed]"
          },
          "metadata": {
            "needs_background": "light"
          }
        }
      ],
      "source": [
        "plt.figure(figsize=(15,8))\n",
        "sn.heatmap(data=X_train,yticklabels=360)"
      ]
    },
    {
      "cell_type": "code",
      "execution_count": 52,
      "metadata": {
        "id": "uixqDFJll3-W",
        "outputId": "e6d2656f-7a7e-4b92-883a-73b8448396af",
        "colab": {
          "base_uri": "https://localhost:8080/"
        }
      },
      "outputs": [
        {
          "output_type": "execute_result",
          "data": {
            "text/plain": [
              "(2520, 10)"
            ]
          },
          "metadata": {},
          "execution_count": 52
        }
      ],
      "source": [
        "X_train.shape"
      ]
    },
    {
      "cell_type": "code",
      "execution_count": 53,
      "metadata": {
        "id": "zrrhbUz-l3-W",
        "outputId": "60b20724-b85e-4837-a638-f7b0008a29b0",
        "colab": {
          "base_uri": "https://localhost:8080/",
          "height": 488
        }
      },
      "outputs": [
        {
          "output_type": "execute_result",
          "data": {
            "text/plain": [
              "      additive_*C3_NMR_shift  aryl_halide_*C3_NMR_shift  \\\n",
              "0                     143.12                     120.97   \n",
              "1                     143.12                     120.95   \n",
              "2                     143.12                     181.37   \n",
              "3                     143.12                     112.08   \n",
              "4                     143.12                     112.39   \n",
              "...                      ...                        ...   \n",
              "3955                  152.98                     129.62   \n",
              "3956                  152.98                     256.46   \n",
              "3957                  152.98                     117.10   \n",
              "3958                  152.98                     117.61   \n",
              "3959                  152.98                     444.44   \n",
              "\n",
              "      aryl_halide_*H2_electrostatic_charge  base_*N1_electrostatic_charge  \\\n",
              "0                                    0.143                         -0.755   \n",
              "1                                    0.100                         -0.755   \n",
              "2                                    0.083                         -0.755   \n",
              "3                                    0.137                         -0.755   \n",
              "4                                    0.099                         -0.755   \n",
              "...                                    ...                            ...   \n",
              "3955                                 0.138                         -0.611   \n",
              "3956                                 0.137                         -0.611   \n",
              "3957                                 0.102                         -0.611   \n",
              "3958                                 0.065                         -0.611   \n",
              "3959                                 0.042                         -0.611   \n",
              "\n",
              "      ligand_*C11_NMR_shift  additive_*C4_electrostatic_charge  base_E_HOMO  \\\n",
              "0                    114.03                             -0.447      -0.1703   \n",
              "1                    114.03                             -0.447      -0.1703   \n",
              "2                    114.03                             -0.447      -0.1703   \n",
              "3                    114.03                             -0.447      -0.1703   \n",
              "4                    114.03                             -0.447      -0.1703   \n",
              "...                     ...                                ...          ...   \n",
              "3955                 114.09                             -0.589      -0.1913   \n",
              "3956                 114.09                             -0.589      -0.1913   \n",
              "3957                 114.09                             -0.589      -0.1913   \n",
              "3958                 114.09                             -0.589      -0.1913   \n",
              "3959                 114.09                             -0.589      -0.1913   \n",
              "\n",
              "      aryl_halide_V2_frequency  aryl_halide_E_LUMO  additive_E_LUMO  \n",
              "0                     1351.720             -0.0396          -0.0487  \n",
              "1                     1349.391             -0.0413          -0.0487  \n",
              "2                     1346.735             -0.0429          -0.0487  \n",
              "3                     1351.340             -0.0118          -0.0487  \n",
              "4                     1532.172             -0.3500          -0.0487  \n",
              "...                        ...                 ...              ...  \n",
              "3955                  1311.840             -0.0391          -0.0696  \n",
              "3956                  1305.598             -0.0383          -0.0696  \n",
              "3957                  1298.019             -0.0380          -0.0696  \n",
              "3958                  1295.516             -0.0390          -0.0696  \n",
              "3959                  1291.420             -0.0395          -0.0696  \n",
              "\n",
              "[3960 rows x 10 columns]"
            ],
            "text/html": [
              "\n",
              "  <div id=\"df-dab8f549-f979-4190-969c-3ab923e38119\">\n",
              "    <div class=\"colab-df-container\">\n",
              "      <div>\n",
              "<style scoped>\n",
              "    .dataframe tbody tr th:only-of-type {\n",
              "        vertical-align: middle;\n",
              "    }\n",
              "\n",
              "    .dataframe tbody tr th {\n",
              "        vertical-align: top;\n",
              "    }\n",
              "\n",
              "    .dataframe thead th {\n",
              "        text-align: right;\n",
              "    }\n",
              "</style>\n",
              "<table border=\"1\" class=\"dataframe\">\n",
              "  <thead>\n",
              "    <tr style=\"text-align: right;\">\n",
              "      <th></th>\n",
              "      <th>additive_*C3_NMR_shift</th>\n",
              "      <th>aryl_halide_*C3_NMR_shift</th>\n",
              "      <th>aryl_halide_*H2_electrostatic_charge</th>\n",
              "      <th>base_*N1_electrostatic_charge</th>\n",
              "      <th>ligand_*C11_NMR_shift</th>\n",
              "      <th>additive_*C4_electrostatic_charge</th>\n",
              "      <th>base_E_HOMO</th>\n",
              "      <th>aryl_halide_V2_frequency</th>\n",
              "      <th>aryl_halide_E_LUMO</th>\n",
              "      <th>additive_E_LUMO</th>\n",
              "    </tr>\n",
              "  </thead>\n",
              "  <tbody>\n",
              "    <tr>\n",
              "      <th>0</th>\n",
              "      <td>143.12</td>\n",
              "      <td>120.97</td>\n",
              "      <td>0.143</td>\n",
              "      <td>-0.755</td>\n",
              "      <td>114.03</td>\n",
              "      <td>-0.447</td>\n",
              "      <td>-0.1703</td>\n",
              "      <td>1351.720</td>\n",
              "      <td>-0.0396</td>\n",
              "      <td>-0.0487</td>\n",
              "    </tr>\n",
              "    <tr>\n",
              "      <th>1</th>\n",
              "      <td>143.12</td>\n",
              "      <td>120.95</td>\n",
              "      <td>0.100</td>\n",
              "      <td>-0.755</td>\n",
              "      <td>114.03</td>\n",
              "      <td>-0.447</td>\n",
              "      <td>-0.1703</td>\n",
              "      <td>1349.391</td>\n",
              "      <td>-0.0413</td>\n",
              "      <td>-0.0487</td>\n",
              "    </tr>\n",
              "    <tr>\n",
              "      <th>2</th>\n",
              "      <td>143.12</td>\n",
              "      <td>181.37</td>\n",
              "      <td>0.083</td>\n",
              "      <td>-0.755</td>\n",
              "      <td>114.03</td>\n",
              "      <td>-0.447</td>\n",
              "      <td>-0.1703</td>\n",
              "      <td>1346.735</td>\n",
              "      <td>-0.0429</td>\n",
              "      <td>-0.0487</td>\n",
              "    </tr>\n",
              "    <tr>\n",
              "      <th>3</th>\n",
              "      <td>143.12</td>\n",
              "      <td>112.08</td>\n",
              "      <td>0.137</td>\n",
              "      <td>-0.755</td>\n",
              "      <td>114.03</td>\n",
              "      <td>-0.447</td>\n",
              "      <td>-0.1703</td>\n",
              "      <td>1351.340</td>\n",
              "      <td>-0.0118</td>\n",
              "      <td>-0.0487</td>\n",
              "    </tr>\n",
              "    <tr>\n",
              "      <th>4</th>\n",
              "      <td>143.12</td>\n",
              "      <td>112.39</td>\n",
              "      <td>0.099</td>\n",
              "      <td>-0.755</td>\n",
              "      <td>114.03</td>\n",
              "      <td>-0.447</td>\n",
              "      <td>-0.1703</td>\n",
              "      <td>1532.172</td>\n",
              "      <td>-0.3500</td>\n",
              "      <td>-0.0487</td>\n",
              "    </tr>\n",
              "    <tr>\n",
              "      <th>...</th>\n",
              "      <td>...</td>\n",
              "      <td>...</td>\n",
              "      <td>...</td>\n",
              "      <td>...</td>\n",
              "      <td>...</td>\n",
              "      <td>...</td>\n",
              "      <td>...</td>\n",
              "      <td>...</td>\n",
              "      <td>...</td>\n",
              "      <td>...</td>\n",
              "    </tr>\n",
              "    <tr>\n",
              "      <th>3955</th>\n",
              "      <td>152.98</td>\n",
              "      <td>129.62</td>\n",
              "      <td>0.138</td>\n",
              "      <td>-0.611</td>\n",
              "      <td>114.09</td>\n",
              "      <td>-0.589</td>\n",
              "      <td>-0.1913</td>\n",
              "      <td>1311.840</td>\n",
              "      <td>-0.0391</td>\n",
              "      <td>-0.0696</td>\n",
              "    </tr>\n",
              "    <tr>\n",
              "      <th>3956</th>\n",
              "      <td>152.98</td>\n",
              "      <td>256.46</td>\n",
              "      <td>0.137</td>\n",
              "      <td>-0.611</td>\n",
              "      <td>114.09</td>\n",
              "      <td>-0.589</td>\n",
              "      <td>-0.1913</td>\n",
              "      <td>1305.598</td>\n",
              "      <td>-0.0383</td>\n",
              "      <td>-0.0696</td>\n",
              "    </tr>\n",
              "    <tr>\n",
              "      <th>3957</th>\n",
              "      <td>152.98</td>\n",
              "      <td>117.10</td>\n",
              "      <td>0.102</td>\n",
              "      <td>-0.611</td>\n",
              "      <td>114.09</td>\n",
              "      <td>-0.589</td>\n",
              "      <td>-0.1913</td>\n",
              "      <td>1298.019</td>\n",
              "      <td>-0.0380</td>\n",
              "      <td>-0.0696</td>\n",
              "    </tr>\n",
              "    <tr>\n",
              "      <th>3958</th>\n",
              "      <td>152.98</td>\n",
              "      <td>117.61</td>\n",
              "      <td>0.065</td>\n",
              "      <td>-0.611</td>\n",
              "      <td>114.09</td>\n",
              "      <td>-0.589</td>\n",
              "      <td>-0.1913</td>\n",
              "      <td>1295.516</td>\n",
              "      <td>-0.0390</td>\n",
              "      <td>-0.0696</td>\n",
              "    </tr>\n",
              "    <tr>\n",
              "      <th>3959</th>\n",
              "      <td>152.98</td>\n",
              "      <td>444.44</td>\n",
              "      <td>0.042</td>\n",
              "      <td>-0.611</td>\n",
              "      <td>114.09</td>\n",
              "      <td>-0.589</td>\n",
              "      <td>-0.1913</td>\n",
              "      <td>1291.420</td>\n",
              "      <td>-0.0395</td>\n",
              "      <td>-0.0696</td>\n",
              "    </tr>\n",
              "  </tbody>\n",
              "</table>\n",
              "<p>3960 rows × 10 columns</p>\n",
              "</div>\n",
              "      <button class=\"colab-df-convert\" onclick=\"convertToInteractive('df-dab8f549-f979-4190-969c-3ab923e38119')\"\n",
              "              title=\"Convert this dataframe to an interactive table.\"\n",
              "              style=\"display:none;\">\n",
              "        \n",
              "  <svg xmlns=\"http://www.w3.org/2000/svg\" height=\"24px\"viewBox=\"0 0 24 24\"\n",
              "       width=\"24px\">\n",
              "    <path d=\"M0 0h24v24H0V0z\" fill=\"none\"/>\n",
              "    <path d=\"M18.56 5.44l.94 2.06.94-2.06 2.06-.94-2.06-.94-.94-2.06-.94 2.06-2.06.94zm-11 1L8.5 8.5l.94-2.06 2.06-.94-2.06-.94L8.5 2.5l-.94 2.06-2.06.94zm10 10l.94 2.06.94-2.06 2.06-.94-2.06-.94-.94-2.06-.94 2.06-2.06.94z\"/><path d=\"M17.41 7.96l-1.37-1.37c-.4-.4-.92-.59-1.43-.59-.52 0-1.04.2-1.43.59L10.3 9.45l-7.72 7.72c-.78.78-.78 2.05 0 2.83L4 21.41c.39.39.9.59 1.41.59.51 0 1.02-.2 1.41-.59l7.78-7.78 2.81-2.81c.8-.78.8-2.07 0-2.86zM5.41 20L4 18.59l7.72-7.72 1.47 1.35L5.41 20z\"/>\n",
              "  </svg>\n",
              "      </button>\n",
              "      \n",
              "  <style>\n",
              "    .colab-df-container {\n",
              "      display:flex;\n",
              "      flex-wrap:wrap;\n",
              "      gap: 12px;\n",
              "    }\n",
              "\n",
              "    .colab-df-convert {\n",
              "      background-color: #E8F0FE;\n",
              "      border: none;\n",
              "      border-radius: 50%;\n",
              "      cursor: pointer;\n",
              "      display: none;\n",
              "      fill: #1967D2;\n",
              "      height: 32px;\n",
              "      padding: 0 0 0 0;\n",
              "      width: 32px;\n",
              "    }\n",
              "\n",
              "    .colab-df-convert:hover {\n",
              "      background-color: #E2EBFA;\n",
              "      box-shadow: 0px 1px 2px rgba(60, 64, 67, 0.3), 0px 1px 3px 1px rgba(60, 64, 67, 0.15);\n",
              "      fill: #174EA6;\n",
              "    }\n",
              "\n",
              "    [theme=dark] .colab-df-convert {\n",
              "      background-color: #3B4455;\n",
              "      fill: #D2E3FC;\n",
              "    }\n",
              "\n",
              "    [theme=dark] .colab-df-convert:hover {\n",
              "      background-color: #434B5C;\n",
              "      box-shadow: 0px 1px 3px 1px rgba(0, 0, 0, 0.15);\n",
              "      filter: drop-shadow(0px 1px 2px rgba(0, 0, 0, 0.3));\n",
              "      fill: #FFFFFF;\n",
              "    }\n",
              "  </style>\n",
              "\n",
              "      <script>\n",
              "        const buttonEl =\n",
              "          document.querySelector('#df-dab8f549-f979-4190-969c-3ab923e38119 button.colab-df-convert');\n",
              "        buttonEl.style.display =\n",
              "          google.colab.kernel.accessAllowed ? 'block' : 'none';\n",
              "\n",
              "        async function convertToInteractive(key) {\n",
              "          const element = document.querySelector('#df-dab8f549-f979-4190-969c-3ab923e38119');\n",
              "          const dataTable =\n",
              "            await google.colab.kernel.invokeFunction('convertToInteractive',\n",
              "                                                     [key], {});\n",
              "          if (!dataTable) return;\n",
              "\n",
              "          const docLinkHtml = 'Like what you see? Visit the ' +\n",
              "            '<a target=\"_blank\" href=https://colab.research.google.com/notebooks/data_table.ipynb>data table notebook</a>'\n",
              "            + ' to learn more about interactive tables.';\n",
              "          element.innerHTML = '';\n",
              "          dataTable['output_type'] = 'display_data';\n",
              "          await google.colab.output.renderOutput(dataTable, element);\n",
              "          const docLink = document.createElement('div');\n",
              "          docLink.innerHTML = docLinkHtml;\n",
              "          element.appendChild(docLink);\n",
              "        }\n",
              "      </script>\n",
              "    </div>\n",
              "  </div>\n",
              "  "
            ]
          },
          "metadata": {},
          "execution_count": 53
        }
      ],
      "source": [
        "X_data"
      ]
    },
    {
      "cell_type": "code",
      "execution_count": 54,
      "metadata": {
        "id": "e9TxlXN-l3-W"
      },
      "outputs": [],
      "source": [
        "# change yield to numpy array\n",
        "y_train = np.array(y_train)\n",
        "y_test = np.array(y_test)"
      ]
    },
    {
      "cell_type": "code",
      "execution_count": 55,
      "metadata": {
        "id": "OT2YjGmel3-X"
      },
      "outputs": [],
      "source": [
        "# cross validation score\n",
        "scores= cross_validate(rf,X_train,y_train,scoring=('r2','neg_mean_squared_error'),cv=3)"
      ]
    },
    {
      "cell_type": "code",
      "execution_count": 56,
      "metadata": {
        "id": "KsQQ25aHl3-X",
        "outputId": "c4c1f649-4c3d-4533-baa9-316ff1f7219b",
        "colab": {
          "base_uri": "https://localhost:8080/"
        }
      },
      "outputs": [
        {
          "output_type": "execute_result",
          "data": {
            "text/plain": [
              "dict_keys(['fit_time', 'score_time', 'test_r2', 'test_neg_mean_squared_error'])"
            ]
          },
          "metadata": {},
          "execution_count": 56
        }
      ],
      "source": [
        "scores.keys()"
      ]
    },
    {
      "cell_type": "code",
      "execution_count": 57,
      "metadata": {
        "id": "R9a9Z_Ifl3-X",
        "outputId": "dbdbfc09-2d02-426d-f7c4-cd8d749624d1",
        "colab": {
          "base_uri": "https://localhost:8080/"
        }
      },
      "outputs": [
        {
          "output_type": "execute_result",
          "data": {
            "text/plain": [
              "array([0.69323641, 0.81058174, 0.1828662 ])"
            ]
          },
          "metadata": {},
          "execution_count": 57
        }
      ],
      "source": [
        "scores['test_r2']"
      ]
    },
    {
      "cell_type": "code",
      "execution_count": 58,
      "metadata": {
        "id": "ML8Axiy4l3-X",
        "outputId": "f980d0e9-52c1-4614-eb29-f819d88f6a71",
        "colab": {
          "base_uri": "https://localhost:8080/"
        }
      },
      "outputs": [
        {
          "output_type": "execute_result",
          "data": {
            "text/plain": [
              "array([16.03387949, 12.35992135, 21.30952728])"
            ]
          },
          "metadata": {},
          "execution_count": 58
        }
      ],
      "source": [
        "np.sqrt(-scores['test_neg_mean_squared_error'])"
      ]
    },
    {
      "cell_type": "code",
      "execution_count": 59,
      "metadata": {
        "id": "odey8g5cl3-X"
      },
      "outputs": [],
      "source": [
        "# Model Training and prediction\n",
        "rf.fit(X_train,y_train) # training using 70% of the data\n",
        "predicted_yield =rf.predict(X_test) # predicting yield for 30% of the data"
      ]
    },
    {
      "cell_type": "code",
      "execution_count": 60,
      "metadata": {
        "id": "MFbpwgDpl3-Y",
        "outputId": "15b75524-d6fe-424e-a85b-e656787e8952",
        "colab": {
          "base_uri": "https://localhost:8080/"
        }
      },
      "outputs": [
        {
          "output_type": "stream",
          "name": "stdout",
          "text": [
            "rmse: 11.255806705631763\n"
          ]
        }
      ],
      "source": [
        "# Model accuracy using root mean square error \n",
        "rmse = np.sqrt(mean_squared_error(y_test, predicted_yield )) \n",
        "print('rmse:', rmse)"
      ]
    },
    {
      "cell_type": "code",
      "execution_count": 61,
      "metadata": {
        "id": "kht880DOl3-Y",
        "outputId": "0a44cf6f-29b5-40c2-f82a-e08cef4fa0d8",
        "colab": {
          "base_uri": "https://localhost:8080/"
        }
      },
      "outputs": [
        {
          "output_type": "stream",
          "name": "stdout",
          "text": [
            "R^2: 0.8099551006176957\n"
          ]
        }
      ],
      "source": [
        "# R^2 (coefficient of determination) regression score function: \n",
        "R2 =r2_score(y_test, predicted_yield ) \n",
        "print('R^2:', R2)"
      ]
    },
    {
      "cell_type": "code",
      "execution_count": 62,
      "metadata": {
        "id": "TX-yIwfEl3-Y",
        "outputId": "f4d65076-c7e0-42c6-a123-789d7a1fe536",
        "colab": {
          "base_uri": "https://localhost:8080/",
          "height": 368
        }
      },
      "outputs": [
        {
          "output_type": "execute_result",
          "data": {
            "text/plain": [
              "<matplotlib.legend.Legend at 0x7f29d2ecfd50>"
            ]
          },
          "metadata": {},
          "execution_count": 62
        },
        {
          "output_type": "display_data",
          "data": {
            "text/plain": [
              "<Figure size 360x360 with 1 Axes>"
            ],
            "image/png": "[encoded data removed]"
          },
          "metadata": {
            "needs_background": "light"
          }
        }
      ],
      "source": [
        "# from the publication RMSE = 11% and R2 = 0.83\n",
        "plt.figure(figsize=(5,5))\n",
        "sn.regplot(x=predicted_yield , y=y_test,line_kws={\"lw\":2,'ls':'--','color':'black',\"alpha\":0.7})\n",
        "plt.xlabel('Predicted Yield', color='blue')\n",
        "plt.ylabel('Observed Yield', color ='blue')\n",
        "plt.title(\"Random Forest (Plate 3 Prediction)\", color='red')\n",
        "plt.grid(alpha=0.2)\n",
        "R2 = mpatches.Patch(label=\"R2={:04.2f}\".format(R2))\n",
        "rmse = mpatches.Patch(label=\"RMSE={:04.2f}\".format(rmse))\n",
        "plt.legend(handles=[R2, rmse])"
      ]
    },
    {
      "cell_type": "code",
      "execution_count": 63,
      "metadata": {
        "id": "tuvPP4mHl3-Y"
      },
      "outputs": [],
      "source": [
        "# XGBoost the most widely used ML model in kaggle competition\n",
        "from xgboost import XGBRegressor\n",
        "xgb = XGBRegressor(n_estimators=100, random_state=42)"
      ]
    },
    {
      "cell_type": "code",
      "execution_count": 64,
      "metadata": {
        "id": "ffulQq-el3-Y",
        "outputId": "49382acd-6e4f-44e9-b4d6-4a0926d6ccb7",
        "colab": {
          "base_uri": "https://localhost:8080/"
        }
      },
      "outputs": [
        {
          "output_type": "stream",
          "name": "stdout",
          "text": [
            "[21:44:06] WARNING: /workspace/src/objective/regression_obj.cu:152: reg:linear is now deprecated in favor of reg:squarederror.\n"
          ]
        }
      ],
      "source": [
        "# Model Training and prediction\n",
        "xgb.fit(X_train,y_train) # training using 70% of the data\n",
        "predicted_yield2 = xgb.predict(X_test) # predicting yield for 30% of the data"
      ]
    },
    {
      "cell_type": "code",
      "execution_count": 65,
      "metadata": {
        "id": "ncR4BTRkl3-Z",
        "outputId": "03f49d64-4643-4c27-b8f2-c560808b6cd0",
        "colab": {
          "base_uri": "https://localhost:8080/"
        }
      },
      "outputs": [
        {
          "output_type": "stream",
          "name": "stdout",
          "text": [
            "rmse: 13.17001180779102\n"
          ]
        }
      ],
      "source": [
        "# Model accuracy using root mean square error \n",
        "rmse2 = np.sqrt(mean_squared_error(y_test, predicted_yield2))  \n",
        "print('rmse:', rmse2)"
      ]
    },
    {
      "cell_type": "code",
      "execution_count": 66,
      "metadata": {
        "id": "bgFJrAMFl3-Z",
        "outputId": "10339fa5-9ea0-4c86-ad1a-a70d4c938dfb",
        "colab": {
          "base_uri": "https://localhost:8080/"
        }
      },
      "outputs": [
        {
          "output_type": "stream",
          "name": "stdout",
          "text": [
            "R^2: 0.7398191705321411\n"
          ]
        }
      ],
      "source": [
        "# R^2 (coefficient of determination) regression score function: \n",
        "R_2 = r2_score(y_test, predicted_yield2)\n",
        "print('R^2:', R_2)"
      ]
    },
    {
      "cell_type": "code",
      "execution_count": 67,
      "metadata": {
        "id": "Lhsf0Wjsl3-Z",
        "outputId": "c73403fe-dcdb-462f-b1c9-488bf2c38b40",
        "colab": {
          "base_uri": "https://localhost:8080/",
          "height": 368
        }
      },
      "outputs": [
        {
          "output_type": "execute_result",
          "data": {
            "text/plain": [
              "<matplotlib.legend.Legend at 0x7f29d2e4e790>"
            ]
          },
          "metadata": {},
          "execution_count": 67
        },
        {
          "output_type": "display_data",
          "data": {
            "text/plain": [
              "<Figure size 360x360 with 1 Axes>"
            ],
            "image/png": "[encoded data removed]"
          },
          "metadata": {
            "needs_background": "light"
          }
        }
      ],
      "source": [
        "fig = plt.figure(figsize=(5,5))\n",
        "sn.regplot(x=predicted_yield2, y=y_test,line_kws={\"lw\":2,'ls':'--','color':'black',\"alpha\":0.2})\n",
        "plt.xlabel('Predicted Yield', color='blue')\n",
        "plt.ylabel('Observed Yield', color ='blue')\n",
        "plt.title(\"XGBoost\", color='red')\n",
        "plt.grid(alpha=0.2)\n",
        "R_2 = mpatches.Patch(label=\"R2={:04.2f}\".format(R_2))\n",
        "rmse2 = mpatches.Patch(label=\"RMSE={:04.2f}\".format(rmse2))\n",
        "plt.legend(handles=[R_2, rmse2])"
      ]
    },
    {
      "cell_type": "code",
      "execution_count": 68,
      "metadata": {
        "id": "C9vaRNXOl3-Z"
      },
      "outputs": [],
      "source": [
        "# # Neural network\n",
        "# sr = MLPRegressor(hidden_layer_sizes=(1200),\n",
        "#                        activation='logistic',\n",
        "#                        solver='sgd',\n",
        "#                        max_iter=10000,\n",
        "#                        random_state=42)\n",
        "# sr.fit(X_train,y_train)\n",
        "# predicted_yield3 = sr.predict(X_test)"
      ]
    },
    {
      "cell_type": "code",
      "execution_count": 69,
      "metadata": {
        "id": "2UXrPK99l3-Z"
      },
      "outputs": [],
      "source": [
        "# # R^2 (coefficient of determination) regression score function: \n",
        "# R_3 = r2_score(y_test, predicted_yield3)\n",
        "# print('R^2:', R_3)"
      ]
    },
    {
      "cell_type": "code",
      "execution_count": 70,
      "metadata": {
        "id": "5EPJksNTl3-Z"
      },
      "outputs": [],
      "source": [
        "model = keras.Sequential([\n",
        "    layers.Input(shape=(10,)),\n",
        "    layers.Dense(32, activation='relu'),\n",
        "    layers.Dense(32, activation='relu'),\n",
        "    layers.Dense(32, activation='relu'),\n",
        "    layers.Dropout(0.2),\n",
        "    layers.Dense(32, activation='relu'),\n",
        "    layers.Dense(1)\n",
        "])"
      ]
    },
    {
      "cell_type": "code",
      "execution_count": 71,
      "metadata": {
        "id": "tiP98Dnyl3-Z"
      },
      "outputs": [],
      "source": [
        "model.compile(loss='mean_absolute_error',\n",
        "                optimizer=tf.keras.optimizers.Adam(0.001))"
      ]
    },
    {
      "cell_type": "code",
      "execution_count": 72,
      "metadata": {
        "id": "Pz0Bk4h9l3-Z",
        "outputId": "397b8030-21ac-4b18-a328-b4fe7085c02b",
        "colab": {
          "base_uri": "https://localhost:8080/"
        }
      },
      "outputs": [
        {
          "output_type": "stream",
          "name": "stdout",
          "text": [
            "Model: \"sequential_1\"\n",
            "_________________________________________________________________\n",
            " Layer (type)                Output Shape              Param #   \n",
            "=================================================================\n",
            " dense_5 (Dense)             (None, 32)                352       \n",
            "                                                                 \n",
            " dense_6 (Dense)             (None, 32)                1056      \n",
            "                                                                 \n",
            " dense_7 (Dense)             (None, 32)                1056      \n",
            "                                                                 \n",
            " dropout_1 (Dropout)         (None, 32)                0         \n",
            "                                                                 \n",
            " dense_8 (Dense)             (None, 32)                1056      \n",
            "                                                                 \n",
            " dense_9 (Dense)             (None, 1)                 33        \n",
            "                                                                 \n",
            "=================================================================\n",
            "Total params: 3,553\n",
            "Trainable params: 3,553\n",
            "Non-trainable params: 0\n",
            "_________________________________________________________________\n"
          ]
        }
      ],
      "source": [
        "model.summary()"
      ]
    },
    {
      "cell_type": "code",
      "execution_count": 73,
      "metadata": {
        "id": "uwN-D0Gdl3-a",
        "outputId": "0a78034f-c6d8-4c7f-d533-7980e03ac2ec",
        "colab": {
          "base_uri": "https://localhost:8080/"
        }
      },
      "outputs": [
        {
          "output_type": "stream",
          "name": "stdout",
          "text": [
            "Epoch 1/50\n",
            "63/63 [==============================] - 1s 4ms/step - loss: 29.8746 - val_loss: 19.3308\n",
            "Epoch 2/50\n",
            "63/63 [==============================] - 0s 2ms/step - loss: 20.5434 - val_loss: 16.7911\n",
            "Epoch 3/50\n",
            "63/63 [==============================] - 0s 2ms/step - loss: 18.2152 - val_loss: 16.1735\n",
            "Epoch 4/50\n",
            "63/63 [==============================] - 0s 2ms/step - loss: 17.4072 - val_loss: 16.0116\n",
            "Epoch 5/50\n",
            "63/63 [==============================] - 0s 3ms/step - loss: 16.8006 - val_loss: 15.7066\n",
            "Epoch 6/50\n",
            "63/63 [==============================] - 0s 2ms/step - loss: 16.1882 - val_loss: 15.0356\n",
            "Epoch 7/50\n",
            "63/63 [==============================] - 0s 2ms/step - loss: 15.6861 - val_loss: 14.9486\n",
            "Epoch 8/50\n",
            "63/63 [==============================] - 0s 2ms/step - loss: 14.9643 - val_loss: 14.3390\n",
            "Epoch 9/50\n",
            "63/63 [==============================] - 0s 2ms/step - loss: 14.4475 - val_loss: 14.6780\n",
            "Epoch 10/50\n",
            "63/63 [==============================] - 0s 2ms/step - loss: 14.3129 - val_loss: 14.3409\n",
            "Epoch 11/50\n",
            "63/63 [==============================] - 0s 3ms/step - loss: 13.7946 - val_loss: 14.0558\n",
            "Epoch 12/50\n",
            "63/63 [==============================] - 0s 2ms/step - loss: 13.6508 - val_loss: 14.2541\n",
            "Epoch 13/50\n",
            "63/63 [==============================] - 0s 2ms/step - loss: 13.2481 - val_loss: 14.3394\n",
            "Epoch 14/50\n",
            "63/63 [==============================] - 0s 2ms/step - loss: 12.9492 - val_loss: 14.6221\n",
            "Epoch 15/50\n",
            "63/63 [==============================] - 0s 2ms/step - loss: 12.6770 - val_loss: 14.6058\n",
            "Epoch 16/50\n",
            "63/63 [==============================] - 0s 2ms/step - loss: 12.8008 - val_loss: 14.7676\n",
            "Epoch 17/50\n",
            "63/63 [==============================] - 0s 6ms/step - loss: 12.5232 - val_loss: 14.7123\n",
            "Epoch 18/50\n",
            "63/63 [==============================] - 0s 4ms/step - loss: 12.2022 - val_loss: 14.5194\n",
            "Epoch 19/50\n",
            "63/63 [==============================] - 0s 5ms/step - loss: 12.2927 - val_loss: 14.4315\n",
            "Epoch 20/50\n",
            "63/63 [==============================] - 0s 4ms/step - loss: 12.3883 - val_loss: 14.4596\n",
            "Epoch 21/50\n",
            "63/63 [==============================] - 0s 5ms/step - loss: 12.3370 - val_loss: 14.8492\n",
            "Epoch 22/50\n",
            "63/63 [==============================] - 0s 4ms/step - loss: 12.0323 - val_loss: 14.7427\n",
            "Epoch 23/50\n",
            "63/63 [==============================] - 0s 5ms/step - loss: 11.9612 - val_loss: 15.4560\n",
            "Epoch 24/50\n",
            "63/63 [==============================] - 0s 6ms/step - loss: 11.9192 - val_loss: 15.0241\n",
            "Epoch 25/50\n",
            "63/63 [==============================] - 0s 5ms/step - loss: 11.5735 - val_loss: 15.2198\n",
            "Epoch 26/50\n",
            "63/63 [==============================] - 0s 5ms/step - loss: 11.7459 - val_loss: 15.0932\n",
            "Epoch 27/50\n",
            "63/63 [==============================] - 0s 5ms/step - loss: 11.8183 - val_loss: 14.8990\n",
            "Epoch 28/50\n",
            "63/63 [==============================] - 0s 5ms/step - loss: 11.5607 - val_loss: 15.3336\n",
            "Epoch 29/50\n",
            "63/63 [==============================] - 0s 5ms/step - loss: 11.4385 - val_loss: 15.4096\n",
            "Epoch 30/50\n",
            "63/63 [==============================] - 0s 4ms/step - loss: 11.4379 - val_loss: 15.2144\n",
            "Epoch 31/50\n",
            "63/63 [==============================] - 0s 4ms/step - loss: 11.4729 - val_loss: 15.2342\n",
            "Epoch 32/50\n",
            "63/63 [==============================] - 0s 7ms/step - loss: 11.4202 - val_loss: 15.0406\n",
            "Epoch 33/50\n",
            "63/63 [==============================] - 0s 5ms/step - loss: 11.4206 - val_loss: 15.1720\n",
            "Epoch 34/50\n",
            "63/63 [==============================] - 0s 4ms/step - loss: 11.3284 - val_loss: 14.9308\n",
            "Epoch 35/50\n",
            "63/63 [==============================] - 0s 6ms/step - loss: 11.0300 - val_loss: 15.3200\n",
            "Epoch 36/50\n",
            "63/63 [==============================] - 0s 7ms/step - loss: 11.2353 - val_loss: 15.1709\n",
            "Epoch 37/50\n",
            "63/63 [==============================] - 0s 7ms/step - loss: 11.1989 - val_loss: 14.8262\n",
            "Epoch 38/50\n",
            "63/63 [==============================] - 0s 5ms/step - loss: 11.1067 - val_loss: 15.3780\n",
            "Epoch 39/50\n",
            "63/63 [==============================] - 0s 6ms/step - loss: 11.0814 - val_loss: 15.3179\n",
            "Epoch 40/50\n",
            "63/63 [==============================] - 0s 4ms/step - loss: 11.0951 - val_loss: 14.6422\n",
            "Epoch 41/50\n",
            "63/63 [==============================] - 0s 6ms/step - loss: 11.0075 - val_loss: 15.0501\n",
            "Epoch 42/50\n",
            "63/63 [==============================] - 0s 6ms/step - loss: 10.7731 - val_loss: 15.2250\n",
            "Epoch 43/50\n",
            "63/63 [==============================] - 0s 7ms/step - loss: 10.6299 - val_loss: 15.0019\n",
            "Epoch 44/50\n",
            "63/63 [==============================] - 0s 7ms/step - loss: 10.7420 - val_loss: 15.0563\n",
            "Epoch 45/50\n",
            "63/63 [==============================] - 0s 5ms/step - loss: 10.6623 - val_loss: 15.0618\n",
            "Epoch 46/50\n",
            "63/63 [==============================] - 0s 4ms/step - loss: 10.6672 - val_loss: 14.8554\n",
            "Epoch 47/50\n",
            "63/63 [==============================] - 0s 3ms/step - loss: 10.6172 - val_loss: 14.9389\n",
            "Epoch 48/50\n",
            "63/63 [==============================] - 0s 2ms/step - loss: 10.6386 - val_loss: 14.9125\n",
            "Epoch 49/50\n",
            "63/63 [==============================] - 0s 2ms/step - loss: 10.4887 - val_loss: 15.1205\n",
            "Epoch 50/50\n",
            "63/63 [==============================] - 0s 2ms/step - loss: 10.4782 - val_loss: 15.0907\n"
          ]
        }
      ],
      "source": [
        "history= model.fit(X_train,y_train, epochs=50,validation_split=0.2)"
      ]
    },
    {
      "cell_type": "code",
      "execution_count": 74,
      "metadata": {
        "id": "h8K0HA6bl3-a",
        "outputId": "40b88d75-04b2-44de-989b-faf84f67c084",
        "colab": {
          "base_uri": "https://localhost:8080/",
          "height": 283
        }
      },
      "outputs": [
        {
          "output_type": "display_data",
          "data": {
            "text/plain": [
              "<Figure size 432x288 with 1 Axes>"
            ],
            "image/png": "[encoded data removed]"
          },
          "metadata": {
            "needs_background": "light"
          }
        }
      ],
      "source": [
        "plt.plot(history.history['loss'], label='loss')\n",
        "plt.plot(history.history['val_loss'], label='val_loss')\n",
        "plt.ylim([0, 20])\n",
        "plt.xlabel('Epoch')\n",
        "plt.ylabel('Loss Trend')\n",
        "plt.legend()\n",
        "plt.grid(True)"
      ]
    },
    {
      "cell_type": "code",
      "execution_count": 75,
      "metadata": {
        "id": "xVrIOeCUl3-a"
      },
      "outputs": [],
      "source": [
        "# %%time\n",
        "# history = model.fit(\n",
        "#     X_train, y_train,\n",
        "#     validation_split=0.2,\n",
        "#     verbose=0, epochs=100)"
      ]
    },
    {
      "cell_type": "code",
      "execution_count": 76,
      "metadata": {
        "id": "IDz2x3Tul3-a"
      },
      "outputs": [],
      "source": [
        "# plot_loss(history)"
      ]
    },
    {
      "cell_type": "code",
      "execution_count": 77,
      "metadata": {
        "id": "HC-9xFZJl3-a",
        "outputId": "a6ef4691-2aef-4784-de31-071f8da153d1",
        "colab": {
          "base_uri": "https://localhost:8080/"
        }
      },
      "outputs": [
        {
          "output_type": "execute_result",
          "data": {
            "text/plain": [
              "array([24.10905766, 32.87780619, 43.39942952, ...,  1.44008073,\n",
              "       43.53836522, 69.79590237])"
            ]
          },
          "metadata": {},
          "execution_count": 77
        }
      ],
      "source": [
        "predicted_yield4 = model.predict(X_test)\n",
        "y_test"
      ]
    },
    {
      "cell_type": "code",
      "execution_count": 78,
      "metadata": {
        "id": "yzkt2l61l3-a",
        "outputId": "9f8f93e8-9a2d-4ba6-b4dc-8bab01621415",
        "colab": {
          "base_uri": "https://localhost:8080/"
        }
      },
      "outputs": [
        {
          "output_type": "execute_result",
          "data": {
            "text/plain": [
              "array([[50.010754],\n",
              "       [72.16791 ],\n",
              "       [85.902275],\n",
              "       ...,\n",
              "       [28.56197 ],\n",
              "       [65.28362 ],\n",
              "       [87.172386]], dtype=float32)"
            ]
          },
          "metadata": {},
          "execution_count": 78
        }
      ],
      "source": [
        "predicted_yield4"
      ]
    },
    {
      "cell_type": "code",
      "execution_count": 79,
      "metadata": {
        "id": "gEc3_ePyl3-a"
      },
      "outputs": [],
      "source": [
        "# predicted_yield4\n",
        "# for i,j in enumerate (predicted_yield4):\n",
        "#     print(f'Predicted yield= {j} and Actual yield ={y_test[i]}' )\n",
        "    "
      ]
    },
    {
      "cell_type": "code",
      "execution_count": 80,
      "metadata": {
        "id": "cwHT7xaKl3-a",
        "outputId": "70c58cf0-f9d5-4885-c01f-6dd0a1ff5bc6",
        "colab": {
          "base_uri": "https://localhost:8080/"
        }
      },
      "outputs": [
        {
          "output_type": "stream",
          "name": "stdout",
          "text": [
            "R^2: -0.17843031162805834\n"
          ]
        }
      ],
      "source": [
        "# R^2 (coefficient of determination) regression score function: \n",
        "R_4 = r2_score(y_test, predicted_yield4)\n",
        "print('R^2:', R_4)"
      ]
    },
    {
      "cell_type": "code",
      "execution_count": 81,
      "metadata": {
        "id": "CcXzgQhll3-b",
        "outputId": "41bbe208-bc63-4a75-b974-c1f9509392f5",
        "colab": {
          "base_uri": "https://localhost:8080/",
          "height": 368
        }
      },
      "outputs": [
        {
          "output_type": "execute_result",
          "data": {
            "text/plain": [
              "<matplotlib.legend.Legend at 0x7f29d2bd1310>"
            ]
          },
          "metadata": {},
          "execution_count": 81
        },
        {
          "output_type": "display_data",
          "data": {
            "text/plain": [
              "<Figure size 360x360 with 1 Axes>"
            ],
            "image/png": "[encoded data removed]"
          },
          "metadata": {
            "needs_background": "light"
          }
        }
      ],
      "source": [
        "fig = plt.figure(figsize=(5,5))\n",
        "sn.regplot(x=predicted_yield4, y=y_test,line_kws={\"lw\":2,'ls':'--','color':'black',\"alpha\":0.2})\n",
        "plt.xlabel('Predicted Yield', color='blue')\n",
        "plt.ylabel('Observed Yield', color ='blue')\n",
        "plt.title(\"Tensorflow \", color='red')\n",
        "plt.grid(alpha=0.2)\n",
        "R_4 = mpatches.Patch(label=\"R2={:04.2f}\".format(R_4))\n",
        "# rmse2 = mpatches.Patch(label=\"RMSE={:04.2f}\".format(rmse2))\n",
        "plt.legend(handles=[R_4])"
      ]
    },
    {
      "cell_type": "code",
      "execution_count": 81,
      "metadata": {
        "id": "jVUDx0VIl3-b"
      },
      "outputs": [],
      "source": [
        ""
      ]
    }
  ],
  "metadata": {
    "kernelspec": {
      "display_name": "Python 3",
      "language": "python",
      "name": "python3"
    },
    "language_info": {
      "codemirror_mode": {
        "name": "ipython",
        "version": 3
      },
      "file_extension": ".py",
      "mimetype": "text/x-python",
      "name": "python",
      "nbconvert_exporter": "python",
      "pygments_lexer": "ipython3",
      "version": "3.8.5"
    },
    "colab": {
      "name": "10_Descriptors_for_ Buchwald_Yield_Prediction Using plate 1 and 2 as training sets.ipynb",
      "provenance": [],
      "include_colab_link": true
    }
  },
  "nbformat": 4,
  "nbformat_minor": 0
}